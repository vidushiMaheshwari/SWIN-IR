{
  "nbformat": 4,
  "nbformat_minor": 0,
  "metadata": {
    "colab": {
      "name": "SWIN-IR_transfer_learning.ipynb",
      "provenance": [],
      "authorship_tag": "ABX9TyPqt0/ebqqDsPPZZbev7sA8",
      "include_colab_link": true
    },
    "kernelspec": {
      "name": "python3",
      "display_name": "Python 3"
    },
    "language_info": {
      "name": "python"
    }
  },
  "cells": [
    {
      "cell_type": "markdown",
      "metadata": {
        "id": "view-in-github",
        "colab_type": "text"
      },
      "source": [
        "<a href=\"https://colab.research.google.com/github/vidushiMaheshwari/SWIN-IR/blob/main/SWIN_IR_transfer_learning.ipynb\" target=\"_parent\"><img src=\"https://colab.research.google.com/assets/colab-badge.svg\" alt=\"Open In Colab\"/></a>"
      ]
    },
    {
      "cell_type": "markdown",
      "source": [
        "# Dataset"
      ],
      "metadata": {
        "id": "7DdZHjJntvTz"
      }
    },
    {
      "cell_type": "code",
      "execution_count": null,
      "metadata": {
        "id": "J-2Y_LcpsJbP"
      },
      "outputs": [],
      "source": [
        "!wget 'https://nihcc.box.com/shared/static/sp5y2k799v4x1x77f7w1aqp26uyfq7qz.zip'\n",
        "## after this rename the folder for the sake of simplicity (I am using zip_file.zip)"
      ]
    },
    {
      "cell_type": "code",
      "source": [
        "!wget 'https://nihcc.app.box.com/v/DeepLesion/file/305569842654'\n",
        "## renamed to csv_file.csv"
      ],
      "metadata": {
        "id": "QZ7_B812vr_w"
      },
      "execution_count": null,
      "outputs": []
    },
    {
      "cell_type": "code",
      "source": [
        "!unzip -q zip_file.zip -d zip_file"
      ],
      "metadata": {
        "id": "dhg8wkY2uT1I"
      },
      "execution_count": 3,
      "outputs": []
    },
    {
      "cell_type": "markdown",
      "source": [
        "Now that we have images in a folder, let's start with the actual implementation of model"
      ],
      "metadata": {
        "id": "WPzjvH44ugo_"
      }
    },
    {
      "cell_type": "code",
      "source": [
        "# creating a dataset object\n",
        "import os\n",
        "import pandas as pd\n",
        "from torchvision.io import read_image\n",
        "from torch.utils.data import Dataset\n",
        "import torch\n",
        "from skimage import io\n",
        "\n",
        "class CustomImageDataset(Dataset):\n",
        "  def __init__(self, csv_file, root_dir, transform=None):\n",
        "    self.img_labels=pd.read_csv(csv_file)\n",
        "    self.root_dir = root_dir\n",
        "    self.transforms = transform\n",
        "  def __len__(self):\n",
        "    return len(self.img_labels)\n",
        "  def __getitem__(self, idx):\n",
        "    if torch.is_tensor(idx):\n",
        "      idx = idx = idx.tolist()\n",
        "    img_name = os.path.join(self.root_dir, \n",
        "                            '_'.join(self.img_labels.iloc[idx, 0].split('_')[0:3]),\n",
        "                            self.img_labels.iloc[idx, 0].split('_')[-1])\n",
        "    image = io.imread(img_name)\n",
        "    sample = {'image':image}\n",
        "\n",
        "    if self.transforms:\n",
        "      sample = self.transform(sample)\n",
        "    \n",
        "    return sample\n"
      ],
      "metadata": {
        "id": "-_7zA3J2ufTi"
      },
      "execution_count": 47,
      "outputs": []
    },
    {
      "cell_type": "code",
      "source": [
        "dataset = CustomImageDataset('DL_info.csv', 'zip_file/Images_png')"
      ],
      "metadata": {
        "id": "I8S5S-oMv91J"
      },
      "execution_count": 48,
      "outputs": []
    },
    {
      "cell_type": "code",
      "source": [
        "print(len(dataset))"
      ],
      "metadata": {
        "colab": {
          "base_uri": "https://localhost:8080/"
        },
        "id": "2EQUjS4Z6HOq",
        "outputId": "6bb078be-5680-45c6-f6b7-789e2b623c6a"
      },
      "execution_count": 49,
      "outputs": [
        {
          "output_type": "stream",
          "name": "stdout",
          "text": [
            "32735\n"
          ]
        }
      ]
    },
    {
      "cell_type": "code",
      "source": [
        "for i in dataset:\n",
        "  print(i) ### i currently stores the image only\n",
        "  break"
      ],
      "metadata": {
        "colab": {
          "base_uri": "https://localhost:8080/"
        },
        "id": "nNr5e6gk6ZjW",
        "outputId": "78a48420-70de-481d-8787-0d1b26de51fb"
      },
      "execution_count": 50,
      "outputs": [
        {
          "output_type": "stream",
          "name": "stdout",
          "text": [
            "{'image': array([[29744, 29744, 29744, ..., 29744, 29744, 29744],\n",
            "       [29744, 29744, 29744, ..., 29744, 29744, 29744],\n",
            "       [29744, 29744, 29744, ..., 29744, 29744, 29744],\n",
            "       ...,\n",
            "       [29744, 29744, 29744, ..., 29744, 29744, 29744],\n",
            "       [29744, 29744, 29744, ..., 29744, 29744, 29744],\n",
            "       [29744, 29744, 29744, ..., 29744, 29744, 29744]], dtype=uint16)}\n"
          ]
        }
      ]
    },
    {
      "cell_type": "markdown",
      "source": [
        "Creating dataloader"
      ],
      "metadata": {
        "id": "5wkUt30n7PU2"
      }
    },
    {
      "cell_type": "code",
      "source": [
        ""
      ],
      "metadata": {
        "id": "q51W21_T7S6E"
      },
      "execution_count": null,
      "outputs": []
    },
    {
      "cell_type": "markdown",
      "source": [
        "Downloading SWIN IR model\n",
        "\n"
      ],
      "metadata": {
        "id": "MAJRICROAq3c"
      }
    },
    {
      "cell_type": "code",
      "source": [
        ""
      ],
      "metadata": {
        "colab": {
          "base_uri": "https://localhost:8080/"
        },
        "id": "GTFABpH2H8mQ",
        "outputId": "c4376252-14ef-4b95-9aa9-145348ed2f3c"
      },
      "execution_count": 64,
      "outputs": [
        {
          "output_type": "stream",
          "name": "stdout",
          "text": [
            "curl 7.58.0 (x86_64-pc-linux-gnu) libcurl/7.58.0 OpenSSL/1.1.1 zlib/1.2.11 libidn2/2.0.4 libpsl/0.19.1 (+libidn2/2.0.4) nghttp2/1.30.0 librtmp/2.3\n",
            "Release-Date: 2018-01-24\n",
            "Protocols: dict file ftp ftps gopher http https imap imaps ldap ldaps pop3 pop3s rtmp rtsp smb smbs smtp smtps telnet tftp \n",
            "Features: AsynchDNS IDN IPv6 Largefile GSS-API Kerberos SPNEGO NTLM NTLM_WB SSL libz TLS-SRP HTTP2 UnixSockets HTTPS-proxy PSL \n"
          ]
        }
      ]
    },
    {
      "cell_type": "code",
      "source": [
        "!wget 'https://raw.githubusercontent.com/cszn/KAIR/06bd194f4cd0da6f4159c058b6fb5b9be689c18a/main_train_psnr.py'\n",
        "!wget 'https://raw.githubusercontent.com/cszn/KAIR/master/utils/utils_logger.py'\n",
        "!wget 'https://raw.githubusercontent.com/cszn/KAIR/master/utils/utils_image.py'\n",
        "!wget 'https://raw.githubusercontent.com/cszn/KAIR/master/utils/utils_option.py'\n",
        "!wget 'https://raw.githubusercontent.com/cszn/KAIR/master/utils/utils_dist.py'\n",
        "!wget 'https://raw.githubusercontent.com/cszn/KAIR/master/data/select_dataset.py'\n",
        "!wget 'https://raw.githubusercontent.com/cszn/KAIR/master/models/select_model.py'"
      ],
      "metadata": {
        "id": "AOpIrxjwGetN"
      },
      "execution_count": null,
      "outputs": []
    },
    {
      "cell_type": "code",
      "source": [
        ""
      ],
      "metadata": {
        "id": "408LiGcIKs7O"
      },
      "execution_count": null,
      "outputs": []
    },
    {
      "cell_type": "code",
      "source": [
        "!wget 'https://raw.githubusercontent.com/cszn/KAIR/06bd194f4cd0da6f4159c058b6fb5b9be689c18a/main_train_psnr.py'"
      ],
      "metadata": {
        "id": "SU2Dmb5sD-7U"
      },
      "execution_count": null,
      "outputs": []
    },
    {
      "cell_type": "code",
      "source": [
        "!wget 'https://raw.githubusercontent.com/cszn/KAIR/master/options/swinir/train_swinir_denoising_gray.json'"
      ],
      "metadata": {
        "id": "V_ZYI6XTMbO0"
      },
      "execution_count": null,
      "outputs": []
    },
    {
      "cell_type": "code",
      "source": [
        "!python -m torch.distributed.launch --nproc_per_node=8 --master_port=1234 main_train_psnr.py --opt options/swinir/train_swinir_denoising_gray.json  --dist True"
      ],
      "metadata": {
        "id": "anjRhndaAqQr"
      },
      "execution_count": null,
      "outputs": []
    },
    {
      "cell_type": "markdown",
      "source": [
        "# Playing around"
      ],
      "metadata": {
        "id": "G9uLFX_Ev-zp"
      }
    },
    {
      "cell_type": "code",
      "source": [
        "import csv\n",
        "file = open('DL_info.csv')\n",
        "csv_reader = csv.reader(file)\n",
        "header = []\n",
        "header = next(csv_reader)\n",
        "header"
      ],
      "metadata": {
        "colab": {
          "base_uri": "https://localhost:8080/"
        },
        "id": "CYbBmLRGwDLn",
        "outputId": "811a980e-4700-40b4-fa87-02a4a94b1f99"
      },
      "execution_count": 6,
      "outputs": [
        {
          "output_type": "execute_result",
          "data": {
            "text/plain": [
              "['File_name',\n",
              " 'Patient_index',\n",
              " 'Study_index',\n",
              " 'Series_ID',\n",
              " 'Key_slice_index',\n",
              " 'Measurement_coordinates',\n",
              " 'Bounding_boxes',\n",
              " 'Lesion_diameters_Pixel_',\n",
              " 'Normalized_lesion_location',\n",
              " 'Coarse_lesion_type',\n",
              " 'Possibly_noisy',\n",
              " 'Slice_range',\n",
              " 'Spacing_mm_px_',\n",
              " 'Image_size',\n",
              " 'DICOM_windows',\n",
              " 'Patient_gender',\n",
              " 'Patient_age',\n",
              " 'Train_Val_Test']"
            ]
          },
          "metadata": {},
          "execution_count": 6
        }
      ]
    },
    {
      "cell_type": "code",
      "source": [
        "## name of files with images is in the form --> 'zip_file/Images_png/File_name.split('_')[0:3]/File_name.split('_')[-1]'"
      ],
      "metadata": {
        "id": "VrP9YBrlxHe1"
      },
      "execution_count": null,
      "outputs": []
    },
    {
      "cell_type": "code",
      "source": [
        "for row in csv_reader:\n",
        "  print(row)\n",
        "  print(row[0])\n",
        "  print('_'.join(row[0].split('_')[0:3]))\n",
        "  break"
      ],
      "metadata": {
        "colab": {
          "base_uri": "https://localhost:8080/"
        },
        "id": "TIHN7CAFxR-e",
        "outputId": "3fabba7b-3a0c-4802-8c71-951491e45e1e"
      },
      "execution_count": 13,
      "outputs": [
        {
          "output_type": "stream",
          "name": "stdout",
          "text": [
            "['000002_01_01_162.png', '2', '1', '1', '162', '238.314, 261.228, 235.858, 268.594, 240.36, 265.729, 234.222, 262.865', '229.222, 256.228, 245.36, 273.594', '7.76388, 6.77335', '0.437715, 0.573812, 0.609054', '2', '0', '156, 168', '0.859375, 0.859375, 5', '512, 512', '-175, 275', 'F', '51', '2']\n",
            "000002_01_01_162.png\n",
            "000002_01_01\n"
          ]
        }
      ]
    },
    {
      "cell_type": "code",
      "source": [
        "for row in csv_reader:\n",
        "  img = 'zip_file/Images_png' + '_'.join(row[0].split('_')[0:3]) + row[0].split('_')[-1]\n"
      ],
      "metadata": {
        "id": "6q5nZMlxyxC5"
      },
      "execution_count": null,
      "outputs": []
    },
    {
      "cell_type": "markdown",
      "source": [
        "Reading CSV with pandas"
      ],
      "metadata": {
        "id": "Z8Ji9jgc0C51"
      }
    },
    {
      "cell_type": "code",
      "source": [
        "import pandas as pd\n",
        "\n",
        "reader = pd.read_csv('DL_info.csv')\n",
        "reader"
      ],
      "metadata": {
        "id": "IIi4vHa00Fq6"
      },
      "execution_count": null,
      "outputs": []
    },
    {
      "cell_type": "code",
      "source": [
        "for i in reader:\n",
        "  print(i)"
      ],
      "metadata": {
        "id": "ua6X8qws0R_8"
      },
      "execution_count": null,
      "outputs": []
    },
    {
      "cell_type": "code",
      "source": [
        "print(reader.head())  "
      ],
      "metadata": {
        "id": "TTjU_JTY0wxX"
      },
      "execution_count": null,
      "outputs": []
    },
    {
      "cell_type": "code",
      "source": [
        "print(len(reader))\n",
        "print(reader.shape) ## 32735 rows and 18 cols"
      ],
      "metadata": {
        "colab": {
          "base_uri": "https://localhost:8080/"
        },
        "id": "A1EzY2UR0xff",
        "outputId": "a7044303-f89b-42e6-d25f-66e87c483fe8"
      },
      "execution_count": 24,
      "outputs": [
        {
          "output_type": "stream",
          "name": "stdout",
          "text": [
            "32735\n",
            "(32735, 18)\n"
          ]
        }
      ]
    },
    {
      "cell_type": "code",
      "source": [
        "reader.iloc[1, 0]  ### Pretty important!!!"
      ],
      "metadata": {
        "colab": {
          "base_uri": "https://localhost:8080/",
          "height": 35
        },
        "id": "-MevJ1Bt1acn",
        "outputId": "ac1bf7bf-1e14-494b-9ebf-d4aec1a3f5c9"
      },
      "execution_count": 34,
      "outputs": [
        {
          "output_type": "execute_result",
          "data": {
            "text/plain": [
              "'000001_02_01_014.png'"
            ],
            "application/vnd.google.colaboratory.intrinsic+json": {
              "type": "string"
            }
          },
          "metadata": {},
          "execution_count": 34
        }
      ]
    }
  ]
}