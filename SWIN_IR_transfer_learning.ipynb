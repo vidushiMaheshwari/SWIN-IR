{
  "nbformat": 4,
  "nbformat_minor": 0,
  "metadata": {
    "colab": {
      "name": "SWIN-IR_transfer_learning.ipynb",
      "provenance": [],
      "collapsed_sections": [
        "G9uLFX_Ev-zp"
      ],
      "include_colab_link": true
    },
    "kernelspec": {
      "name": "python3",
      "display_name": "Python 3"
    },
    "language_info": {
      "name": "python"
    },
    "gpuClass": "standard",
    "accelerator": "GPU"
  },
  "cells": [
    {
      "cell_type": "markdown",
      "metadata": {
        "id": "view-in-github",
        "colab_type": "text"
      },
      "source": [
        "<a href=\"https://colab.research.google.com/github/vidushiMaheshwari/SWIN-IR/blob/main/SWIN_IR_transfer_learning.ipynb\" target=\"_parent\"><img src=\"https://colab.research.google.com/assets/colab-badge.svg\" alt=\"Open In Colab\"/></a>"
      ]
    },
    {
      "cell_type": "markdown",
      "source": [
        "# Dataset"
      ],
      "metadata": {
        "id": "7DdZHjJntvTz"
      }
    },
    {
      "cell_type": "markdown",
      "source": [
        "Download dataset and csv"
      ],
      "metadata": {
        "id": "CmScmNy3cSHu"
      }
    },
    {
      "cell_type": "code",
      "source": [
        "import os\n",
        "os.mkdir('/content/image_files')"
      ],
      "metadata": {
        "id": "Eh8MgnZHkcex"
      },
      "execution_count": 1,
      "outputs": []
    },
    {
      "cell_type": "code",
      "source": [
        "links = [\n",
        "    'https://nihcc.box.com/shared/static/sp5y2k799v4x1x77f7w1aqp26uyfq7qz.zip',\n",
        "    'https://nihcc.box.com/shared/static/l9e1ys5e48qq8s409ua3uv6uwuko0y5c.zip',\n",
        "    'https://nihcc.box.com/shared/static/48jotosvbrw0rlke4u88tzadmabcp72r.zip',\n",
        "    'https://nihcc.box.com/shared/static/xa3rjr6nzej6yfgzj9z6hf97ljpq1wkm.zip',\n",
        "    'https://nihcc.box.com/shared/static/58ix4lxaadjxvjzq4am5ehpzhdvzl7os.zip',\n",
        "    'https://nihcc.box.com/shared/static/cfouy1al16n0linxqt504n3macomhdj8.zip',\n",
        "    'https://nihcc.box.com/shared/static/z84jjstqfrhhlr7jikwsvcdutl7jnk78.zip',\n",
        "    'https://nihcc.box.com/shared/static/6viu9bqirhjjz34xhd1nttcqurez8654.zip',\n",
        "    'https://nihcc.box.com/shared/static/9ii2xb6z7869khz9xxrwcx1393a05610.zip',\n",
        "    'https://nihcc.box.com/shared/static/2c7y53eees3a3vdls5preayjaf0mc3bn.zip',\n",
        "\n",
        "    'https://nihcc.box.com/shared/static/2zsqpzru46wsp0f99eaag5yiad42iezz.zip',\n",
        "    'https://nihcc.box.com/shared/static/8v8kfhgyngceiu6cr4sq1o8yftu8162m.zip',\n",
        "    'https://nihcc.box.com/shared/static/jl8ic5cq84e1ijy6z8h52mhnzfqj36q6.zip',\n",
        "    'https://nihcc.box.com/shared/static/un990ghdh14hp0k7zm8m4qkqrbc0qfu5.zip',\n",
        "    'https://nihcc.box.com/shared/static/kxvbvri827o1ssl7l4ji1fngfe0pbt4p.zip',\n",
        "    'https://nihcc.box.com/shared/static/h1jhw1bee3c08pgk537j02q6ue2brxmb.zip',\n",
        "    'https://nihcc.box.com/shared/static/78hamrdfzjzevrxqfr95h1jqzdqndi19.zip',\n",
        "    'https://nihcc.box.com/shared/static/kca6qlkgejyxtsgjgvyoku3z745wbgkc.zip',\n",
        "    'https://nihcc.box.com/shared/static/e8yrtq31g0d8yhjrl6kjplffbsxoc5aw.zip',\n",
        "    'https://nihcc.box.com/shared/static/vomu8feie1qembrsfy2yaq36cimvymj8.zip',\n",
        "\n",
        "    'https://nihcc.box.com/shared/static/ecwyyx47p2jd621wt5c5tc92dselz9nx.zip',\n",
        "    'https://nihcc.box.com/shared/static/fbnafa8rj00y0b5tq05wld0vbgvxnbpe.zip',\n",
        "    'https://nihcc.box.com/shared/static/50v75duviqrhaj1h7a1v3gm6iv9d58en.zip',\n",
        "    'https://nihcc.box.com/shared/static/oylbi4bmcnr2o65id2v9rfnqp16l3hp0.zip',\n",
        "    'https://nihcc.box.com/shared/static/mw15sn09vriv3f1lrlnh3plz7pxt4hoo.zip',\n",
        "    'https://nihcc.box.com/shared/static/zi68hd5o6dajgimnw5fiu7sh63kah5sd.zip',\n",
        "    'https://nihcc.box.com/shared/static/3yiszde3vlklv4xoj1m7k0syqo3yy5ec.zip',\n",
        "    'https://nihcc.box.com/shared/static/w2v86eshepbix9u3813m70d8zqe735xq.zip',\n",
        "    'https://nihcc.box.com/shared/static/0cf5w11yvecfq34sd09qol5atzk1a4ql.zip',\n",
        "    'https://nihcc.box.com/shared/static/275en88yybbvzf7hhsbl6d7kghfxfshi.zip',\n",
        "\n",
        "    'https://nihcc.box.com/shared/static/l52tpmmkgjlfa065ow8czhivhu5vx27n.zip',\n",
        "    'https://nihcc.box.com/shared/static/p89awvi7nj0yov1l2o9hzi5l3q183lqe.zip',\n",
        "    'https://nihcc.box.com/shared/static/or9m7tqbrayvtuppsm4epwsl9rog94o8.zip',\n",
        "    'https://nihcc.box.com/shared/static/vuac680472w3r7i859b0ng7fcxf71wev.zip',\n",
        "    'https://nihcc.box.com/shared/static/pllix2czjvoykgbd8syzq9gq5wkofps6.zip',\n",
        "    'https://nihcc.box.com/shared/static/2dn2kipkkya5zuusll4jlyil3cqzboyk.zip',\n",
        "    'https://nihcc.box.com/shared/static/peva7rpx9lww6zgpd0n8olpo3b2n05ft.zip',\n",
        "    'https://nihcc.box.com/shared/static/2fda8akx3r3mhkts4v6mg3si7dipr7rg.zip',\n",
        "    'https://nihcc.box.com/shared/static/ijd3kwljgpgynfwj0vhj5j5aurzjpwxp.zip',\n",
        "    'https://nihcc.box.com/shared/static/nc6rwjixplkc5cx983mng9mwe99j8oa2.zip',\n",
        "\n",
        "    'https://nihcc.box.com/shared/static/rhnfkwctdcb6y92gn7u98pept6qjfaud.zip',\n",
        "    'https://nihcc.box.com/shared/static/7315e79xqm72osa4869oqkb2o0wayz6k.zip',\n",
        "    'https://nihcc.box.com/shared/static/4nbwf4j9ejhm2ozv8mz3x9jcji6knhhk.zip',\n",
        "    'https://nihcc.box.com/shared/static/1lhhx2uc7w14bt70de0bzcja199k62vn.zip',\n",
        "    'https://nihcc.box.com/shared/static/guho09wmfnlpmg64npz78m4jg5oxqnbo.zip',\n",
        "    'https://nihcc.box.com/shared/static/epu016ga5dh01s9ynlbioyjbi2dua02x.zip',\n",
        "    'https://nihcc.box.com/shared/static/b4ebv95vpr55jqghf6bthg92vktocdkg.zip',\n",
        "    'https://nihcc.box.com/shared/static/byl9pk2y727wpvk0pju4ls4oomz9du6t.zip',\n",
        "    'https://nihcc.box.com/shared/static/kisfbpualo24dhby243nuyfr8bszkqg1.zip',\n",
        "    'https://nihcc.box.com/shared/static/rs1s5ouk4l3icu1n6vyf63r2uhmnv6wz.zip',\n",
        "\n",
        "    'https://nihcc.box.com/shared/static/7tvrneuqt4eq4q1d7lj0fnafn15hu9oj.zip',\n",
        "    'https://nihcc.box.com/shared/static/gjo530t0dgeci3hizcfdvubr2n3mzmtu.zip',\n",
        "    'https://nihcc.box.com/shared/static/7x4pvrdu0lhazj83sdee7nr0zj0s1t0v.zip',\n",
        "    'https://nihcc.box.com/shared/static/z7s2zzdtxe696rlo16cqf5pxahpl8dup.zip',\n",
        "    'https://nihcc.box.com/shared/static/shr998yp51gf2y5jj7jqxz2ht8lcbril.zip',\n",
        "    'https://nihcc.box.com/shared/static/kqg4peb9j53ljhrxe3l3zrj4ac6xogif.zip'\n",
        "]"
      ],
      "metadata": {
        "id": "J6Gz_su7kZfh"
      },
      "execution_count": 2,
      "outputs": []
    },
    {
      "cell_type": "code",
      "source": [
        "import urllib.request\n",
        "import os\n",
        "\n",
        "path = \"/content/image_files\"\n",
        "i = 0\n",
        "\n",
        "for link in links:\n",
        "  print(urllib.request.urlretrieve(link, filename=os.path.join(path, 'zip_{}.zip'.format(i))))\n",
        "  break"
      ],
      "metadata": {
        "id": "gAGtLkRxrPeX",
        "colab": {
          "base_uri": "https://localhost:8080/"
        },
        "outputId": "53dec124-941c-478f-d344-5b9f65471017"
      },
      "execution_count": 8,
      "outputs": [
        {
          "output_type": "stream",
          "name": "stdout",
          "text": [
            "('/content/image_files/zip_0.zip', <http.client.HTTPMessage object at 0x7fdf4538df50>)\n"
          ]
        }
      ]
    },
    {
      "cell_type": "code",
      "source": [
        "shutil.rmtree('/content/Images_png')"
      ],
      "metadata": {
        "id": "n3rSzIMtPPWQ"
      },
      "execution_count": 6,
      "outputs": []
    },
    {
      "cell_type": "code",
      "source": [
        "from zipfile import ZipFile\n",
        "import shutil\n",
        "\n",
        "i = 0\n",
        "\n",
        "while i < 3:\n",
        "  with ZipFile(os.path.join(path, 'zip_{}.zip'.format(i)), 'r') as zip:\n",
        "    zip.extractall()\n",
        "    os.remove(os.path.join(path, 'zip_{}.zip'.format(i)))\n",
        "  i += 1\n",
        "  ## let's just use 215 files <- 2045 files"
      ],
      "metadata": {
        "id": "vUFTj6_FuCq0"
      },
      "execution_count": 9,
      "outputs": []
    },
    {
      "cell_type": "markdown",
      "source": [
        "Now that we have images in a folder, let's start with the actual implementation of model"
      ],
      "metadata": {
        "id": "WPzjvH44ugo_"
      }
    },
    {
      "cell_type": "code",
      "source": [
        "import torchvision\n",
        "import PIL.Image\n",
        "import numpy as np"
      ],
      "metadata": {
        "id": "OphfEXOeY-ML"
      },
      "execution_count": 10,
      "outputs": []
    },
    {
      "cell_type": "code",
      "source": [
        "# creating a dataset object\n",
        "import os\n",
        "import pandas as pd\n",
        "from torchvision.io import read_image\n",
        "from torch.utils.data import Dataset\n",
        "import torch\n",
        "from skimage import io\n",
        "\n",
        "# mask = []\n",
        "\n",
        "class CustomImageDataset(Dataset):\n",
        "    '''\n",
        "    Adds only key slices to the dataset\n",
        "    '''\n",
        "    def __init__(self, csv_file, root_dir, transform=None):\n",
        "        self.img_labels=pd.read_csv(csv_file)\n",
        "        self.root_dir = root_dir\n",
        "        self.transforms = transform\n",
        "    def __len__(self):\n",
        "        return len(self.img_labels)\n",
        "    def __getitem__(self, idx):\n",
        "        if torch.is_tensor(idx):\n",
        "          idx = idx = idx.tolist()\n",
        "        img_name = os.path.join(self.root_dir, \n",
        "                                '_'.join(self.img_labels.iloc[idx, 0].split('_')[0:3]),\n",
        "                                self.img_labels.iloc[idx, 0].split('_')[-1])\n",
        "        if not os.path.exists(img_name):\n",
        "            # # print(\"added {} to mask\".format(img_name))\n",
        "            # # mask.append(False)\n",
        "            sample = {'image': np.zeros((512, 512), dtype=np.uint16),'name': False}\n",
        "            return sample\n",
        "        \n",
        "        # mask.append(True)\n",
        "\n",
        "        image = io.imread(img_name)\n",
        "        # sample = {'image':image, 'name':self.img_labels.iloc[idx, 0]}\n",
        "        sample = {'image':image, 'name':self.img_labels.iloc[idx, 0]}\n",
        "\n",
        "        if self.transforms:\n",
        "          sample = self.transforms(sample)\n",
        "\n",
        "        return sample\n"
      ],
      "metadata": {
        "id": "-_7zA3J2ufTi"
      },
      "execution_count": 140,
      "outputs": []
    },
    {
      "cell_type": "code",
      "source": [
        "image = io.imread('/content/high_res/000097_02_01_076.png')\n",
        "image"
      ],
      "metadata": {
        "colab": {
          "base_uri": "https://localhost:8080/"
        },
        "id": "TiLV3y83d7xq",
        "outputId": "a8f013b3-0d42-430d-c1fb-0b1223483359"
      },
      "execution_count": 132,
      "outputs": [
        {
          "output_type": "execute_result",
          "data": {
            "text/plain": [
              "array([[31744, 31744, 31744, ..., 31744, 31744, 31744],\n",
              "       [31744, 31744, 31744, ..., 31744, 31744, 31744],\n",
              "       [31744, 31744, 31744, ..., 31744, 31744, 31744],\n",
              "       ...,\n",
              "       [31744, 31744, 31744, ..., 31744, 31744, 31744],\n",
              "       [31744, 31744, 31744, ..., 31744, 31744, 31744],\n",
              "       [31744, 31744, 31744, ..., 31744, 31744, 31744]], dtype=uint16)"
            ]
          },
          "metadata": {},
          "execution_count": 132
        }
      ]
    },
    {
      "cell_type": "code",
      "source": [
        "image = np.zeros((512, 512), dtype=np.uint8)\n",
        "image"
      ],
      "metadata": {
        "colab": {
          "base_uri": "https://localhost:8080/"
        },
        "id": "IRcMvcd2eE1o",
        "outputId": "30ee0b46-4223-4424-9579-acc42f1375f4"
      },
      "execution_count": 133,
      "outputs": [
        {
          "output_type": "execute_result",
          "data": {
            "text/plain": [
              "array([[0, 0, 0, ..., 0, 0, 0],\n",
              "       [0, 0, 0, ..., 0, 0, 0],\n",
              "       [0, 0, 0, ..., 0, 0, 0],\n",
              "       ...,\n",
              "       [0, 0, 0, ..., 0, 0, 0],\n",
              "       [0, 0, 0, ..., 0, 0, 0],\n",
              "       [0, 0, 0, ..., 0, 0, 0]], dtype=uint8)"
            ]
          },
          "metadata": {},
          "execution_count": 133
        }
      ]
    },
    {
      "cell_type": "code",
      "source": [
        "def downsample(img, downsample_ratio, height=512, width=512):\n",
        "    transforms=torchvision.transforms.Compose([torchvision.transforms.ToPILImage()])\n",
        "    img = transforms(img)\n",
        "    img = torchvision.transforms.functional.resize(img, \n",
        "                ((int)(img.size[1]/downsample_ratio), \n",
        "                (int)(img.size[0]/downsample_ratio)), \n",
        "                interpolation=torchvision.transforms.transforms.InterpolationMode.NEAREST)\n",
        "\n",
        "    img = torchvision.transforms.functional.resize(img,\n",
        "                ((int)(img.size[1]*downsample_ratio),\n",
        "                (int)(img.size[0]*downsample_ratio)), interpolation=torchvision.transforms.transforms.InterpolationMode.NEAREST)\n",
        "    transform = torchvision.transforms.Compose([torchvision.transforms.Resize((height, width))])\n",
        "    img = transform(img)\n",
        "    return img\n",
        "    \n",
        "# def normalising_windows(min, max, values):\n",
        "#         return (values-min)/((max-min)*1.0)\n",
        "\n",
        "def windowing(img):\n",
        "    '''\n",
        "    TODO:: try only subtracting \n",
        "    '''\n",
        "    img = img['image']\n",
        "    img = np.array(img)\n",
        "    max = (np.amax(np.amax(img, axis=1), axis=0))\n",
        "    min = (np.amin(np.amin(img, axis=1), axis=0))\n",
        "    \n",
        "    img = img - min\n",
        "    img = img / (max - min)\n",
        "    \n",
        "    img = img.astype('float32')\n",
        "    \n",
        "    return img"
      ],
      "metadata": {
        "id": "YONfbhOVY654"
      },
      "execution_count": 135,
      "outputs": []
    },
    {
      "cell_type": "code",
      "source": [
        "class custom_transformation():\n",
        "    def __call__(self, img, ratio=2):\n",
        "        name = img['name']\n",
        "        img = windowing(img)\n",
        "        img = downsample(img, ratio, height=512, width=512)\n",
        "        transform = torchvision.transforms.Compose([torchvision.transforms.ToTensor()])\n",
        "        img = transform(img)\n",
        "        return [img, name]\n",
        "    def __repr__(self):\n",
        "        return \"custom transformation\"\n",
        "        "
      ],
      "metadata": {
        "id": "dIOiDuIcZZzN"
      },
      "execution_count": 136,
      "outputs": []
    },
    {
      "cell_type": "code",
      "source": [
        "dataset = CustomImageDataset('/content/DL_info.csv', '/content/Images_png', transform=custom_transformation())\n",
        "\n",
        "# dataset = torch.utils.data.Subset(dataset, mask)\n",
        "\n",
        "import torch.utils.data as data_utils\n",
        "\n",
        "indices = torch.arange(2045) ## TODO: change this, once you are using more\n",
        "dataset = data_utils.Subset(dataset, indices)"
      ],
      "metadata": {
        "id": "I8S5S-oMv91J"
      },
      "execution_count": 141,
      "outputs": []
    },
    {
      "cell_type": "code",
      "source": [
        "print(len(dataset))\n",
        "for i in dataset:\n",
        "  print(i[1])\n",
        "  break"
      ],
      "metadata": {
        "colab": {
          "base_uri": "https://localhost:8080/"
        },
        "id": "2EQUjS4Z6HOq",
        "outputId": "bf29ccf1-0a36-4d6d-a4f0-5c7d9ee8cb52"
      },
      "execution_count": 121,
      "outputs": [
        {
          "output_type": "stream",
          "name": "stdout",
          "text": [
            "2045\n",
            "000001_01_01_109.png\n"
          ]
        }
      ]
    },
    {
      "cell_type": "code",
      "source": [
        "for i in dataset:\n",
        "  print(i)\n",
        "  "
      ],
      "metadata": {
        "id": "odd-_2HUfg91"
      },
      "execution_count": null,
      "outputs": []
    },
    {
      "cell_type": "code",
      "source": [
        ""
      ],
      "metadata": {
        "id": "BuiXKtQXfse7"
      },
      "execution_count": null,
      "outputs": []
    },
    {
      "cell_type": "markdown",
      "source": [
        "Creating dataloader"
      ],
      "metadata": {
        "id": "5wkUt30n7PU2"
      }
    },
    {
      "cell_type": "code",
      "source": [
        "dataloader = torch.utils.data.DataLoader(\n",
        "    dataset, batch_size=64, shuffle=True, num_workers=0\n",
        ")"
      ],
      "metadata": {
        "id": "q51W21_T7S6E"
      },
      "execution_count": 142,
      "outputs": []
    },
    {
      "cell_type": "code",
      "source": [
        "for i in dataloader:\n",
        "  print(i[0])"
      ],
      "metadata": {
        "colab": {
          "base_uri": "https://localhost:8080/",
          "height": 363
        },
        "id": "HAXoJqZ6i59R",
        "outputId": "247601f4-411f-4d0f-947c-40a5fb1e9e36"
      },
      "execution_count": 144,
      "outputs": [
        {
          "output_type": "error",
          "ename": "TypeError",
          "evalue": "ignored",
          "traceback": [
            "\u001b[0;31m---------------------------------------------------------------------------\u001b[0m",
            "\u001b[0;31mTypeError\u001b[0m                                 Traceback (most recent call last)",
            "\u001b[0;32m<ipython-input-144-3dc86555a67f>\u001b[0m in \u001b[0;36m<module>\u001b[0;34m()\u001b[0m\n\u001b[0;32m----> 1\u001b[0;31m \u001b[0;32mfor\u001b[0m \u001b[0mi\u001b[0m \u001b[0;32min\u001b[0m \u001b[0mdataloader\u001b[0m\u001b[0;34m:\u001b[0m\u001b[0;34m\u001b[0m\u001b[0;34m\u001b[0m\u001b[0m\n\u001b[0m\u001b[1;32m      2\u001b[0m   \u001b[0;32mif\u001b[0m \u001b[0mi\u001b[0m \u001b[0;32mis\u001b[0m \u001b[0;32mNone\u001b[0m\u001b[0;34m:\u001b[0m\u001b[0;34m\u001b[0m\u001b[0;34m\u001b[0m\u001b[0m\n\u001b[1;32m      3\u001b[0m     \u001b[0;32mcontinue\u001b[0m\u001b[0;34m\u001b[0m\u001b[0;34m\u001b[0m\u001b[0m\n\u001b[1;32m      4\u001b[0m   \u001b[0mprint\u001b[0m\u001b[0;34m(\u001b[0m\u001b[0mi\u001b[0m\u001b[0;34m[\u001b[0m\u001b[0;36m0\u001b[0m\u001b[0;34m]\u001b[0m\u001b[0;34m)\u001b[0m\u001b[0;34m\u001b[0m\u001b[0;34m\u001b[0m\u001b[0m\n",
            "\u001b[0;32m/usr/local/lib/python3.7/dist-packages/torch/utils/data/dataloader.py\u001b[0m in \u001b[0;36m__next__\u001b[0;34m(self)\u001b[0m\n\u001b[1;32m    528\u001b[0m             \u001b[0;32mif\u001b[0m \u001b[0mself\u001b[0m\u001b[0;34m.\u001b[0m\u001b[0m_sampler_iter\u001b[0m \u001b[0;32mis\u001b[0m \u001b[0;32mNone\u001b[0m\u001b[0;34m:\u001b[0m\u001b[0;34m\u001b[0m\u001b[0;34m\u001b[0m\u001b[0m\n\u001b[1;32m    529\u001b[0m                 \u001b[0mself\u001b[0m\u001b[0;34m.\u001b[0m\u001b[0m_reset\u001b[0m\u001b[0;34m(\u001b[0m\u001b[0;34m)\u001b[0m\u001b[0;34m\u001b[0m\u001b[0;34m\u001b[0m\u001b[0m\n\u001b[0;32m--> 530\u001b[0;31m             \u001b[0mdata\u001b[0m \u001b[0;34m=\u001b[0m \u001b[0mself\u001b[0m\u001b[0;34m.\u001b[0m\u001b[0m_next_data\u001b[0m\u001b[0;34m(\u001b[0m\u001b[0;34m)\u001b[0m\u001b[0;34m\u001b[0m\u001b[0;34m\u001b[0m\u001b[0m\n\u001b[0m\u001b[1;32m    531\u001b[0m             \u001b[0mself\u001b[0m\u001b[0;34m.\u001b[0m\u001b[0m_num_yielded\u001b[0m \u001b[0;34m+=\u001b[0m \u001b[0;36m1\u001b[0m\u001b[0;34m\u001b[0m\u001b[0;34m\u001b[0m\u001b[0m\n\u001b[1;32m    532\u001b[0m             \u001b[0;32mif\u001b[0m \u001b[0mself\u001b[0m\u001b[0;34m.\u001b[0m\u001b[0m_dataset_kind\u001b[0m \u001b[0;34m==\u001b[0m \u001b[0m_DatasetKind\u001b[0m\u001b[0;34m.\u001b[0m\u001b[0mIterable\u001b[0m \u001b[0;32mand\u001b[0m\u001b[0;31m \u001b[0m\u001b[0;31m\\\u001b[0m\u001b[0;34m\u001b[0m\u001b[0;34m\u001b[0m\u001b[0m\n",
            "\u001b[0;32m/usr/local/lib/python3.7/dist-packages/torch/utils/data/dataloader.py\u001b[0m in \u001b[0;36m_next_data\u001b[0;34m(self)\u001b[0m\n\u001b[1;32m    568\u001b[0m     \u001b[0;32mdef\u001b[0m \u001b[0m_next_data\u001b[0m\u001b[0;34m(\u001b[0m\u001b[0mself\u001b[0m\u001b[0;34m)\u001b[0m\u001b[0;34m:\u001b[0m\u001b[0;34m\u001b[0m\u001b[0;34m\u001b[0m\u001b[0m\n\u001b[1;32m    569\u001b[0m         \u001b[0mindex\u001b[0m \u001b[0;34m=\u001b[0m \u001b[0mself\u001b[0m\u001b[0;34m.\u001b[0m\u001b[0m_next_index\u001b[0m\u001b[0;34m(\u001b[0m\u001b[0;34m)\u001b[0m  \u001b[0;31m# may raise StopIteration\u001b[0m\u001b[0;34m\u001b[0m\u001b[0;34m\u001b[0m\u001b[0m\n\u001b[0;32m--> 570\u001b[0;31m         \u001b[0mdata\u001b[0m \u001b[0;34m=\u001b[0m \u001b[0mself\u001b[0m\u001b[0;34m.\u001b[0m\u001b[0m_dataset_fetcher\u001b[0m\u001b[0;34m.\u001b[0m\u001b[0mfetch\u001b[0m\u001b[0;34m(\u001b[0m\u001b[0mindex\u001b[0m\u001b[0;34m)\u001b[0m  \u001b[0;31m# may raise StopIteration\u001b[0m\u001b[0;34m\u001b[0m\u001b[0;34m\u001b[0m\u001b[0m\n\u001b[0m\u001b[1;32m    571\u001b[0m         \u001b[0;32mif\u001b[0m \u001b[0mself\u001b[0m\u001b[0;34m.\u001b[0m\u001b[0m_pin_memory\u001b[0m\u001b[0;34m:\u001b[0m\u001b[0;34m\u001b[0m\u001b[0;34m\u001b[0m\u001b[0m\n\u001b[1;32m    572\u001b[0m             \u001b[0mdata\u001b[0m \u001b[0;34m=\u001b[0m \u001b[0m_utils\u001b[0m\u001b[0;34m.\u001b[0m\u001b[0mpin_memory\u001b[0m\u001b[0;34m.\u001b[0m\u001b[0mpin_memory\u001b[0m\u001b[0;34m(\u001b[0m\u001b[0mdata\u001b[0m\u001b[0;34m)\u001b[0m\u001b[0;34m\u001b[0m\u001b[0;34m\u001b[0m\u001b[0m\n",
            "\u001b[0;32m/usr/local/lib/python3.7/dist-packages/torch/utils/data/_utils/fetch.py\u001b[0m in \u001b[0;36mfetch\u001b[0;34m(self, possibly_batched_index)\u001b[0m\n\u001b[1;32m     50\u001b[0m         \u001b[0;32melse\u001b[0m\u001b[0;34m:\u001b[0m\u001b[0;34m\u001b[0m\u001b[0;34m\u001b[0m\u001b[0m\n\u001b[1;32m     51\u001b[0m             \u001b[0mdata\u001b[0m \u001b[0;34m=\u001b[0m \u001b[0mself\u001b[0m\u001b[0;34m.\u001b[0m\u001b[0mdataset\u001b[0m\u001b[0;34m[\u001b[0m\u001b[0mpossibly_batched_index\u001b[0m\u001b[0;34m]\u001b[0m\u001b[0;34m\u001b[0m\u001b[0;34m\u001b[0m\u001b[0m\n\u001b[0;32m---> 52\u001b[0;31m         \u001b[0;32mreturn\u001b[0m \u001b[0mself\u001b[0m\u001b[0;34m.\u001b[0m\u001b[0mcollate_fn\u001b[0m\u001b[0;34m(\u001b[0m\u001b[0mdata\u001b[0m\u001b[0;34m)\u001b[0m\u001b[0;34m\u001b[0m\u001b[0;34m\u001b[0m\u001b[0m\n\u001b[0m",
            "\u001b[0;32m/usr/local/lib/python3.7/dist-packages/torch/utils/data/_utils/collate.py\u001b[0m in \u001b[0;36mdefault_collate\u001b[0;34m(batch)\u001b[0m\n\u001b[1;32m    165\u001b[0m         \u001b[0mit\u001b[0m \u001b[0;34m=\u001b[0m \u001b[0miter\u001b[0m\u001b[0;34m(\u001b[0m\u001b[0mbatch\u001b[0m\u001b[0;34m)\u001b[0m\u001b[0;34m\u001b[0m\u001b[0;34m\u001b[0m\u001b[0m\n\u001b[1;32m    166\u001b[0m         \u001b[0melem_size\u001b[0m \u001b[0;34m=\u001b[0m \u001b[0mlen\u001b[0m\u001b[0;34m(\u001b[0m\u001b[0mnext\u001b[0m\u001b[0;34m(\u001b[0m\u001b[0mit\u001b[0m\u001b[0;34m)\u001b[0m\u001b[0;34m)\u001b[0m\u001b[0;34m\u001b[0m\u001b[0;34m\u001b[0m\u001b[0m\n\u001b[0;32m--> 167\u001b[0;31m         \u001b[0;32mif\u001b[0m \u001b[0;32mnot\u001b[0m \u001b[0mall\u001b[0m\u001b[0;34m(\u001b[0m\u001b[0mlen\u001b[0m\u001b[0;34m(\u001b[0m\u001b[0melem\u001b[0m\u001b[0;34m)\u001b[0m \u001b[0;34m==\u001b[0m \u001b[0melem_size\u001b[0m \u001b[0;32mfor\u001b[0m \u001b[0melem\u001b[0m \u001b[0;32min\u001b[0m \u001b[0mit\u001b[0m\u001b[0;34m)\u001b[0m\u001b[0;34m:\u001b[0m\u001b[0;34m\u001b[0m\u001b[0;34m\u001b[0m\u001b[0m\n\u001b[0m\u001b[1;32m    168\u001b[0m             \u001b[0;32mraise\u001b[0m \u001b[0mRuntimeError\u001b[0m\u001b[0;34m(\u001b[0m\u001b[0;34m'each element in list of batch should be of equal size'\u001b[0m\u001b[0;34m)\u001b[0m\u001b[0;34m\u001b[0m\u001b[0;34m\u001b[0m\u001b[0m\n\u001b[1;32m    169\u001b[0m         \u001b[0mtransposed\u001b[0m \u001b[0;34m=\u001b[0m \u001b[0mlist\u001b[0m\u001b[0;34m(\u001b[0m\u001b[0mzip\u001b[0m\u001b[0;34m(\u001b[0m\u001b[0;34m*\u001b[0m\u001b[0mbatch\u001b[0m\u001b[0;34m)\u001b[0m\u001b[0;34m)\u001b[0m  \u001b[0;31m# It may be accessed twice, so we use a list.\u001b[0m\u001b[0;34m\u001b[0m\u001b[0;34m\u001b[0m\u001b[0m\n",
            "\u001b[0;32m/usr/local/lib/python3.7/dist-packages/torch/utils/data/_utils/collate.py\u001b[0m in \u001b[0;36m<genexpr>\u001b[0;34m(.0)\u001b[0m\n\u001b[1;32m    165\u001b[0m         \u001b[0mit\u001b[0m \u001b[0;34m=\u001b[0m \u001b[0miter\u001b[0m\u001b[0;34m(\u001b[0m\u001b[0mbatch\u001b[0m\u001b[0;34m)\u001b[0m\u001b[0;34m\u001b[0m\u001b[0;34m\u001b[0m\u001b[0m\n\u001b[1;32m    166\u001b[0m         \u001b[0melem_size\u001b[0m \u001b[0;34m=\u001b[0m \u001b[0mlen\u001b[0m\u001b[0;34m(\u001b[0m\u001b[0mnext\u001b[0m\u001b[0;34m(\u001b[0m\u001b[0mit\u001b[0m\u001b[0;34m)\u001b[0m\u001b[0;34m)\u001b[0m\u001b[0;34m\u001b[0m\u001b[0;34m\u001b[0m\u001b[0m\n\u001b[0;32m--> 167\u001b[0;31m         \u001b[0;32mif\u001b[0m \u001b[0;32mnot\u001b[0m \u001b[0mall\u001b[0m\u001b[0;34m(\u001b[0m\u001b[0mlen\u001b[0m\u001b[0;34m(\u001b[0m\u001b[0melem\u001b[0m\u001b[0;34m)\u001b[0m \u001b[0;34m==\u001b[0m \u001b[0melem_size\u001b[0m \u001b[0;32mfor\u001b[0m \u001b[0melem\u001b[0m \u001b[0;32min\u001b[0m \u001b[0mit\u001b[0m\u001b[0;34m)\u001b[0m\u001b[0;34m:\u001b[0m\u001b[0;34m\u001b[0m\u001b[0;34m\u001b[0m\u001b[0m\n\u001b[0m\u001b[1;32m    168\u001b[0m             \u001b[0;32mraise\u001b[0m \u001b[0mRuntimeError\u001b[0m\u001b[0;34m(\u001b[0m\u001b[0;34m'each element in list of batch should be of equal size'\u001b[0m\u001b[0;34m)\u001b[0m\u001b[0;34m\u001b[0m\u001b[0;34m\u001b[0m\u001b[0m\n\u001b[1;32m    169\u001b[0m         \u001b[0mtransposed\u001b[0m \u001b[0;34m=\u001b[0m \u001b[0mlist\u001b[0m\u001b[0;34m(\u001b[0m\u001b[0mzip\u001b[0m\u001b[0;34m(\u001b[0m\u001b[0;34m*\u001b[0m\u001b[0mbatch\u001b[0m\u001b[0;34m)\u001b[0m\u001b[0;34m)\u001b[0m  \u001b[0;31m# It may be accessed twice, so we use a list.\u001b[0m\u001b[0;34m\u001b[0m\u001b[0;34m\u001b[0m\u001b[0m\n",
            "\u001b[0;31mTypeError\u001b[0m: object of type 'NoneType' has no len()"
          ]
        }
      ]
    },
    {
      "cell_type": "markdown",
      "source": [
        "Now that I have dataloaders, I need to store them into a file format which can then be used by the SWIN IR model"
      ],
      "metadata": {
        "id": "-7E9ic0GdJHr"
      }
    },
    {
      "cell_type": "code",
      "source": [
        "from PIL import Image"
      ],
      "metadata": {
        "id": "h5dX1YYjfqaH"
      },
      "execution_count": 70,
      "outputs": []
    },
    {
      "cell_type": "code",
      "source": [
        "low_res_path = '/content/low_res'\n",
        "high_res_path = '/content/high_res'\n",
        "\n",
        "os.mkdir(low_res_path)\n",
        "os.mkdir(high_res_path)\n",
        "\n",
        "\n",
        "# for batch in dataloader:\n",
        "#   for image in batch:\n",
        "#     print(image.shape)\n",
        "#     image = image.numpy()\n",
        "#     image *= 255\n",
        "#     image = np.squeeze(image, axis=0)\n",
        "#     image = image.astype(np.uint8)\n",
        "#     image = Image.fromarray(image)\n",
        "#     image.save(os.path.join(low_res_path, ))\n",
        "#     break\n",
        "#   break\n",
        "\n"
      ],
      "metadata": {
        "colab": {
          "base_uri": "https://localhost:8080/",
          "height": 235
        },
        "id": "R1Ibc4BldSZR",
        "outputId": "47af0ced-26d9-4033-83e0-20b587d8b355"
      },
      "execution_count": 123,
      "outputs": [
        {
          "output_type": "error",
          "ename": "FileExistsError",
          "evalue": "ignored",
          "traceback": [
            "\u001b[0;31m---------------------------------------------------------------------------\u001b[0m",
            "\u001b[0;31mFileExistsError\u001b[0m                           Traceback (most recent call last)",
            "\u001b[0;32m<ipython-input-123-aac307a17c7d>\u001b[0m in \u001b[0;36m<module>\u001b[0;34m()\u001b[0m\n\u001b[1;32m      2\u001b[0m \u001b[0mhigh_res_path\u001b[0m \u001b[0;34m=\u001b[0m \u001b[0;34m'/content/high_res'\u001b[0m\u001b[0;34m\u001b[0m\u001b[0;34m\u001b[0m\u001b[0m\n\u001b[1;32m      3\u001b[0m \u001b[0;34m\u001b[0m\u001b[0m\n\u001b[0;32m----> 4\u001b[0;31m \u001b[0mos\u001b[0m\u001b[0;34m.\u001b[0m\u001b[0mmkdir\u001b[0m\u001b[0;34m(\u001b[0m\u001b[0mlow_res_path\u001b[0m\u001b[0;34m)\u001b[0m\u001b[0;34m\u001b[0m\u001b[0;34m\u001b[0m\u001b[0m\n\u001b[0m\u001b[1;32m      5\u001b[0m \u001b[0mos\u001b[0m\u001b[0;34m.\u001b[0m\u001b[0mmkdir\u001b[0m\u001b[0;34m(\u001b[0m\u001b[0mhigh_res_path\u001b[0m\u001b[0;34m)\u001b[0m\u001b[0;34m\u001b[0m\u001b[0;34m\u001b[0m\u001b[0m\n\u001b[1;32m      6\u001b[0m \u001b[0;34m\u001b[0m\u001b[0m\n",
            "\u001b[0;31mFileExistsError\u001b[0m: [Errno 17] File exists: '/content/low_res'"
          ]
        }
      ]
    },
    {
      "cell_type": "code",
      "source": [
        "## high_res_images are in os.path.join('_'.join(image[1].split('_')[0:3]), image[1].split('_')[-1])\n",
        "## low res images need to be converted from tensors (img[0]) to PIL image\n",
        "\n",
        "\n",
        "\n",
        "for batch in dataloader:\n",
        "  # print(\"ok\")\n",
        "  for x in range(len(batch)):\n",
        "    image = batch[0][x]\n",
        "    name = batch[1][x]\n",
        "  #   print(\"here\")\n",
        "    high_res_img_loc = os.path.join('/content/Images_png', '_'.join(name.split('_')[0:3]), name.split('_')[-1])\n",
        "    shutil.copyfile(high_res_img_loc, os.path.join(high_res_path, name))\n",
        "  #   print(\"idk\")\n",
        "    low_res_img = Image.fromarray(np.squeeze(image.numpy() * 255, axis = 0).astype(np.uint8))\n",
        "    low_res_img.save(os.path.join(low_res_path, name))\n",
        "  #   print(\"intereting\")\n",
        "  #   ## once we are done with this, we can delete the directory os.path.join('/content/Images_png', '_'.join(image[1].split('_')[0:3]))\n",
        "\n",
        "    shutil.rmtree(os.path.join('/content/Images_png', '_'.join(name.split('_')[0:3])))"
      ],
      "metadata": {
        "id": "oPPRPEAkVdtZ"
      },
      "execution_count": null,
      "outputs": []
    },
    {
      "cell_type": "code",
      "source": [
        "for image in dataset:\n",
        "  if image is None:\n",
        "    continue\n",
        "  name = image[1]\n",
        "  image = image[0]\n",
        "  if name == False:\n",
        "    continue\n",
        "  else:\n",
        "    high_res_img_loc = os.path.join('/content/Images_png', '_'.join(name.split('_')[0:3]), name.split('_')[-1])\n",
        "    shutil.copyfile(high_res_img_loc, os.path.join(high_res_path, name))\n",
        "  #   print(\"idk\")\n",
        "    low_res_img = Image.fromarray(np.squeeze(image.numpy() * 255, axis = 0).astype(np.uint8))\n",
        "    low_res_img.save(os.path.join(low_res_path, name))\n",
        "  #   print(\"intereting\")\n",
        "  #   ## once we are done with this, we can delete the directory os.path.join('/content/Images_png', '_'.join(image[1].split('_')[0:3]))\n",
        "\n",
        "    shutil.rmtree(os.path.join('/content/Images_png', '_'.join(name.split('_')[0:3])))"
      ],
      "metadata": {
        "id": "5zBdusgiiA3D"
      },
      "execution_count": 150,
      "outputs": []
    },
    {
      "cell_type": "markdown",
      "source": [
        "Downloading SWIN IR model\n",
        "\n"
      ],
      "metadata": {
        "id": "MAJRICROAq3c"
      }
    },
    {
      "cell_type": "code",
      "source": [
        "!wget 'https://raw.githubusercontent.com/cszn/KAIR/06bd194f4cd0da6f4159c058b6fb5b9be689c18a/main_train_psnr.py'\n",
        "\n",
        "!wget 'https://raw.githubusercontent.com/cszn/KAIR/master/data/select_dataset.py'\n",
        "\n",
        "!wget 'https://raw.githubusercontent.com/cszn/KAIR/master/options/swinir/train_swinir_denoising_gray.json'"
      ],
      "metadata": {
        "id": "AOpIrxjwGetN"
      },
      "execution_count": null,
      "outputs": []
    },
    {
      "cell_type": "code",
      "source": [
        "!wget 'https://raw.githubusercontent.com/cszn/KAIR/master/utils/utils_logger.py'\n",
        "!wget 'https://raw.githubusercontent.com/cszn/KAIR/master/utils/utils_image.py'\n",
        "!wget 'https://raw.githubusercontent.com/cszn/KAIR/master/utils/utils_option.py'\n",
        "!wget 'https://raw.githubusercontent.com/cszn/KAIR/master/utils/utils_dist.py'"
      ],
      "metadata": {
        "id": "408LiGcIKs7O"
      },
      "execution_count": null,
      "outputs": []
    },
    {
      "cell_type": "code",
      "source": [
        "!wget 'https://raw.githubusercontent.com/cszn/KAIR/master/models/select_model.py'"
      ],
      "metadata": {
        "id": "LXaEH5spimD2"
      },
      "execution_count": null,
      "outputs": []
    },
    {
      "cell_type": "code",
      "source": [
        "!python -m torch.distributed.launch --nproc_per_node=8 --master_port=1234 main_train_psnr.py --opt options/swinir/train_swinir_denoising_gray.json  --dist True"
      ],
      "metadata": {
        "id": "anjRhndaAqQr"
      },
      "execution_count": null,
      "outputs": []
    },
    {
      "cell_type": "markdown",
      "source": [
        "# Playing around"
      ],
      "metadata": {
        "id": "G9uLFX_Ev-zp"
      }
    },
    {
      "cell_type": "code",
      "source": [
        "import csv\n",
        "file = open('DL_info.csv')\n",
        "csv_reader = csv.reader(file)\n",
        "header = []\n",
        "header = next(csv_reader)\n",
        "header"
      ],
      "metadata": {
        "colab": {
          "base_uri": "https://localhost:8080/"
        },
        "id": "CYbBmLRGwDLn",
        "outputId": "811a980e-4700-40b4-fa87-02a4a94b1f99"
      },
      "execution_count": null,
      "outputs": [
        {
          "output_type": "execute_result",
          "data": {
            "text/plain": [
              "['File_name',\n",
              " 'Patient_index',\n",
              " 'Study_index',\n",
              " 'Series_ID',\n",
              " 'Key_slice_index',\n",
              " 'Measurement_coordinates',\n",
              " 'Bounding_boxes',\n",
              " 'Lesion_diameters_Pixel_',\n",
              " 'Normalized_lesion_location',\n",
              " 'Coarse_lesion_type',\n",
              " 'Possibly_noisy',\n",
              " 'Slice_range',\n",
              " 'Spacing_mm_px_',\n",
              " 'Image_size',\n",
              " 'DICOM_windows',\n",
              " 'Patient_gender',\n",
              " 'Patient_age',\n",
              " 'Train_Val_Test']"
            ]
          },
          "metadata": {},
          "execution_count": 6
        }
      ]
    },
    {
      "cell_type": "code",
      "source": [
        "## name of files with images is in the form --> 'zip_file/Images_png/File_name.split('_')[0:3]/File_name.split('_')[-1]'"
      ],
      "metadata": {
        "id": "VrP9YBrlxHe1"
      },
      "execution_count": null,
      "outputs": []
    },
    {
      "cell_type": "code",
      "source": [
        "for row in csv_reader:\n",
        "  print(row)\n",
        "  print(row[0])\n",
        "  print('_'.join(row[0].split('_')[0:3]))\n",
        "  break"
      ],
      "metadata": {
        "colab": {
          "base_uri": "https://localhost:8080/"
        },
        "id": "TIHN7CAFxR-e",
        "outputId": "3fabba7b-3a0c-4802-8c71-951491e45e1e"
      },
      "execution_count": null,
      "outputs": [
        {
          "output_type": "stream",
          "name": "stdout",
          "text": [
            "['000002_01_01_162.png', '2', '1', '1', '162', '238.314, 261.228, 235.858, 268.594, 240.36, 265.729, 234.222, 262.865', '229.222, 256.228, 245.36, 273.594', '7.76388, 6.77335', '0.437715, 0.573812, 0.609054', '2', '0', '156, 168', '0.859375, 0.859375, 5', '512, 512', '-175, 275', 'F', '51', '2']\n",
            "000002_01_01_162.png\n",
            "000002_01_01\n"
          ]
        }
      ]
    },
    {
      "cell_type": "code",
      "source": [
        "for row in csv_reader:\n",
        "  img = 'zip_file/Images_png' + '_'.join(row[0].split('_')[0:3]) + row[0].split('_')[-1]\n"
      ],
      "metadata": {
        "id": "6q5nZMlxyxC5"
      },
      "execution_count": null,
      "outputs": []
    },
    {
      "cell_type": "markdown",
      "source": [
        "Reading CSV with pandas"
      ],
      "metadata": {
        "id": "Z8Ji9jgc0C51"
      }
    },
    {
      "cell_type": "code",
      "source": [
        "import pandas as pd\n",
        "\n",
        "reader = pd.read_csv('DL_info.csv')\n",
        "reader"
      ],
      "metadata": {
        "id": "IIi4vHa00Fq6"
      },
      "execution_count": null,
      "outputs": []
    },
    {
      "cell_type": "code",
      "source": [
        "for i in reader:\n",
        "  print(i)"
      ],
      "metadata": {
        "id": "ua6X8qws0R_8"
      },
      "execution_count": null,
      "outputs": []
    },
    {
      "cell_type": "code",
      "source": [
        "print(reader.head())  "
      ],
      "metadata": {
        "id": "TTjU_JTY0wxX"
      },
      "execution_count": null,
      "outputs": []
    },
    {
      "cell_type": "code",
      "source": [
        "print(len(reader))\n",
        "print(reader.shape) ## 32735 rows and 18 cols"
      ],
      "metadata": {
        "colab": {
          "base_uri": "https://localhost:8080/"
        },
        "id": "A1EzY2UR0xff",
        "outputId": "a7044303-f89b-42e6-d25f-66e87c483fe8"
      },
      "execution_count": null,
      "outputs": [
        {
          "output_type": "stream",
          "name": "stdout",
          "text": [
            "32735\n",
            "(32735, 18)\n"
          ]
        }
      ]
    },
    {
      "cell_type": "code",
      "source": [
        "reader.iloc[1, 0]  ### Pretty important!!!"
      ],
      "metadata": {
        "colab": {
          "base_uri": "https://localhost:8080/",
          "height": 35
        },
        "id": "-MevJ1Bt1acn",
        "outputId": "ac1bf7bf-1e14-494b-9ebf-d4aec1a3f5c9"
      },
      "execution_count": null,
      "outputs": [
        {
          "output_type": "execute_result",
          "data": {
            "text/plain": [
              "'000001_02_01_014.png'"
            ],
            "application/vnd.google.colaboratory.intrinsic+json": {
              "type": "string"
            }
          },
          "metadata": {},
          "execution_count": 34
        }
      ]
    }
  ]
}