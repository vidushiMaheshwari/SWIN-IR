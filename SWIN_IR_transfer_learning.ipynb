{
  "nbformat": 4,
  "nbformat_minor": 0,
  "metadata": {
    "colab": {
      "name": "SWIN-IR_transfer_learning.ipynb",
      "provenance": [],
      "collapsed_sections": [
        "G9uLFX_Ev-zp"
      ],
      "authorship_tag": "ABX9TyNB6n8lH9wIdwkx65FIiGz5",
      "include_colab_link": true
    },
    "kernelspec": {
      "name": "python3",
      "display_name": "Python 3"
    },
    "language_info": {
      "name": "python"
    },
    "gpuClass": "standard"
  },
  "cells": [
    {
      "cell_type": "markdown",
      "metadata": {
        "id": "view-in-github",
        "colab_type": "text"
      },
      "source": [
        "<a href=\"https://colab.research.google.com/github/vidushiMaheshwari/SWIN-IR/blob/main/SWIN_IR_transfer_learning.ipynb\" target=\"_parent\"><img src=\"https://colab.research.google.com/assets/colab-badge.svg\" alt=\"Open In Colab\"/></a>"
      ]
    },
    {
      "cell_type": "markdown",
      "source": [
        "# Dataset"
      ],
      "metadata": {
        "id": "7DdZHjJntvTz"
      }
    },
    {
      "cell_type": "markdown",
      "source": [
        "Download dataset and csv"
      ],
      "metadata": {
        "id": "CmScmNy3cSHu"
      }
    },
    {
      "cell_type": "code",
      "source": [
        "import os\n",
        "os.mkdir('/content/image_files')"
      ],
      "metadata": {
        "id": "Eh8MgnZHkcex"
      },
      "execution_count": 1,
      "outputs": []
    },
    {
      "cell_type": "code",
      "source": [
        "links = [\n",
        "    'https://nihcc.box.com/shared/static/sp5y2k799v4x1x77f7w1aqp26uyfq7qz.zip',\n",
        "    'https://nihcc.box.com/shared/static/l9e1ys5e48qq8s409ua3uv6uwuko0y5c.zip',\n",
        "    'https://nihcc.box.com/shared/static/48jotosvbrw0rlke4u88tzadmabcp72r.zip',\n",
        "    'https://nihcc.box.com/shared/static/xa3rjr6nzej6yfgzj9z6hf97ljpq1wkm.zip',\n",
        "    'https://nihcc.box.com/shared/static/58ix4lxaadjxvjzq4am5ehpzhdvzl7os.zip',\n",
        "    'https://nihcc.box.com/shared/static/cfouy1al16n0linxqt504n3macomhdj8.zip',\n",
        "    'https://nihcc.box.com/shared/static/z84jjstqfrhhlr7jikwsvcdutl7jnk78.zip',\n",
        "    'https://nihcc.box.com/shared/static/6viu9bqirhjjz34xhd1nttcqurez8654.zip',\n",
        "    'https://nihcc.box.com/shared/static/9ii2xb6z7869khz9xxrwcx1393a05610.zip',\n",
        "    'https://nihcc.box.com/shared/static/2c7y53eees3a3vdls5preayjaf0mc3bn.zip',\n",
        "\n",
        "    'https://nihcc.box.com/shared/static/2zsqpzru46wsp0f99eaag5yiad42iezz.zip',\n",
        "    'https://nihcc.box.com/shared/static/8v8kfhgyngceiu6cr4sq1o8yftu8162m.zip',\n",
        "    'https://nihcc.box.com/shared/static/jl8ic5cq84e1ijy6z8h52mhnzfqj36q6.zip',\n",
        "    'https://nihcc.box.com/shared/static/un990ghdh14hp0k7zm8m4qkqrbc0qfu5.zip',\n",
        "    'https://nihcc.box.com/shared/static/kxvbvri827o1ssl7l4ji1fngfe0pbt4p.zip',\n",
        "    'https://nihcc.box.com/shared/static/h1jhw1bee3c08pgk537j02q6ue2brxmb.zip',\n",
        "    'https://nihcc.box.com/shared/static/78hamrdfzjzevrxqfr95h1jqzdqndi19.zip',\n",
        "    'https://nihcc.box.com/shared/static/kca6qlkgejyxtsgjgvyoku3z745wbgkc.zip',\n",
        "    'https://nihcc.box.com/shared/static/e8yrtq31g0d8yhjrl6kjplffbsxoc5aw.zip',\n",
        "    'https://nihcc.box.com/shared/static/vomu8feie1qembrsfy2yaq36cimvymj8.zip',\n",
        "\n",
        "    'https://nihcc.box.com/shared/static/ecwyyx47p2jd621wt5c5tc92dselz9nx.zip',\n",
        "    'https://nihcc.box.com/shared/static/fbnafa8rj00y0b5tq05wld0vbgvxnbpe.zip',\n",
        "    'https://nihcc.box.com/shared/static/50v75duviqrhaj1h7a1v3gm6iv9d58en.zip',\n",
        "    'https://nihcc.box.com/shared/static/oylbi4bmcnr2o65id2v9rfnqp16l3hp0.zip',\n",
        "    'https://nihcc.box.com/shared/static/mw15sn09vriv3f1lrlnh3plz7pxt4hoo.zip',\n",
        "    'https://nihcc.box.com/shared/static/zi68hd5o6dajgimnw5fiu7sh63kah5sd.zip',\n",
        "    'https://nihcc.box.com/shared/static/3yiszde3vlklv4xoj1m7k0syqo3yy5ec.zip',\n",
        "    'https://nihcc.box.com/shared/static/w2v86eshepbix9u3813m70d8zqe735xq.zip',\n",
        "    'https://nihcc.box.com/shared/static/0cf5w11yvecfq34sd09qol5atzk1a4ql.zip',\n",
        "    'https://nihcc.box.com/shared/static/275en88yybbvzf7hhsbl6d7kghfxfshi.zip',\n",
        "\n",
        "    'https://nihcc.box.com/shared/static/l52tpmmkgjlfa065ow8czhivhu5vx27n.zip',\n",
        "    'https://nihcc.box.com/shared/static/p89awvi7nj0yov1l2o9hzi5l3q183lqe.zip',\n",
        "    'https://nihcc.box.com/shared/static/or9m7tqbrayvtuppsm4epwsl9rog94o8.zip',\n",
        "    'https://nihcc.box.com/shared/static/vuac680472w3r7i859b0ng7fcxf71wev.zip',\n",
        "    'https://nihcc.box.com/shared/static/pllix2czjvoykgbd8syzq9gq5wkofps6.zip',\n",
        "    'https://nihcc.box.com/shared/static/2dn2kipkkya5zuusll4jlyil3cqzboyk.zip',\n",
        "    'https://nihcc.box.com/shared/static/peva7rpx9lww6zgpd0n8olpo3b2n05ft.zip',\n",
        "    'https://nihcc.box.com/shared/static/2fda8akx3r3mhkts4v6mg3si7dipr7rg.zip',\n",
        "    'https://nihcc.box.com/shared/static/ijd3kwljgpgynfwj0vhj5j5aurzjpwxp.zip',\n",
        "    'https://nihcc.box.com/shared/static/nc6rwjixplkc5cx983mng9mwe99j8oa2.zip',\n",
        "\n",
        "    'https://nihcc.box.com/shared/static/rhnfkwctdcb6y92gn7u98pept6qjfaud.zip',\n",
        "    'https://nihcc.box.com/shared/static/7315e79xqm72osa4869oqkb2o0wayz6k.zip',\n",
        "    'https://nihcc.box.com/shared/static/4nbwf4j9ejhm2ozv8mz3x9jcji6knhhk.zip',\n",
        "    'https://nihcc.box.com/shared/static/1lhhx2uc7w14bt70de0bzcja199k62vn.zip',\n",
        "    'https://nihcc.box.com/shared/static/guho09wmfnlpmg64npz78m4jg5oxqnbo.zip',\n",
        "    'https://nihcc.box.com/shared/static/epu016ga5dh01s9ynlbioyjbi2dua02x.zip',\n",
        "    'https://nihcc.box.com/shared/static/b4ebv95vpr55jqghf6bthg92vktocdkg.zip',\n",
        "    'https://nihcc.box.com/shared/static/byl9pk2y727wpvk0pju4ls4oomz9du6t.zip',\n",
        "    'https://nihcc.box.com/shared/static/kisfbpualo24dhby243nuyfr8bszkqg1.zip',\n",
        "    'https://nihcc.box.com/shared/static/rs1s5ouk4l3icu1n6vyf63r2uhmnv6wz.zip',\n",
        "\n",
        "    'https://nihcc.box.com/shared/static/7tvrneuqt4eq4q1d7lj0fnafn15hu9oj.zip',\n",
        "    'https://nihcc.box.com/shared/static/gjo530t0dgeci3hizcfdvubr2n3mzmtu.zip',\n",
        "    'https://nihcc.box.com/shared/static/7x4pvrdu0lhazj83sdee7nr0zj0s1t0v.zip',\n",
        "    'https://nihcc.box.com/shared/static/z7s2zzdtxe696rlo16cqf5pxahpl8dup.zip',\n",
        "    'https://nihcc.box.com/shared/static/shr998yp51gf2y5jj7jqxz2ht8lcbril.zip',\n",
        "    'https://nihcc.box.com/shared/static/kqg4peb9j53ljhrxe3l3zrj4ac6xogif.zip'\n",
        "]"
      ],
      "metadata": {
        "id": "J6Gz_su7kZfh"
      },
      "execution_count": 2,
      "outputs": []
    },
    {
      "cell_type": "code",
      "source": [
        "import urllib.request\n",
        "import os\n",
        "\n",
        "path = \"/content/image_files\"\n",
        "i = 0\n",
        "\n",
        "for link in links:\n",
        "  print(urllib.request.urlretrieve(link, filename=os.path.join(path, 'zip_{}.zip'.format(i))))\n",
        "  i+=1\n",
        "  print(i)"
      ],
      "metadata": {
        "id": "gAGtLkRxrPeX",
        "colab": {
          "base_uri": "https://localhost:8080/",
          "height": 397
        },
        "outputId": "70452ee3-1b63-46b3-e10c-5f649ddca185"
      },
      "execution_count": 4,
      "outputs": [
        {
          "output_type": "stream",
          "name": "stdout",
          "text": [
            "('/content/image_files/zip_0.zip', <http.client.HTTPMessage object at 0x7f2f09047410>)\n",
            "('/content/image_files/zip_1.zip', <http.client.HTTPMessage object at 0x7f2f0902b350>)\n"
          ]
        },
        {
          "output_type": "error",
          "ename": "KeyboardInterrupt",
          "evalue": "ignored",
          "traceback": [
            "\u001b[0;31m---------------------------------------------------------------------------\u001b[0m",
            "\u001b[0;31mKeyboardInterrupt\u001b[0m                         Traceback (most recent call last)",
            "\u001b[0;32m<ipython-input-4-6ee76606e501>\u001b[0m in \u001b[0;36m<module>\u001b[0;34m()\u001b[0m\n\u001b[1;32m      6\u001b[0m \u001b[0;34m\u001b[0m\u001b[0m\n\u001b[1;32m      7\u001b[0m \u001b[0;32mfor\u001b[0m \u001b[0mlink\u001b[0m \u001b[0;32min\u001b[0m \u001b[0mlinks\u001b[0m\u001b[0;34m:\u001b[0m\u001b[0;34m\u001b[0m\u001b[0;34m\u001b[0m\u001b[0m\n\u001b[0;32m----> 8\u001b[0;31m   \u001b[0mprint\u001b[0m\u001b[0;34m(\u001b[0m\u001b[0murllib\u001b[0m\u001b[0;34m.\u001b[0m\u001b[0mrequest\u001b[0m\u001b[0;34m.\u001b[0m\u001b[0murlretrieve\u001b[0m\u001b[0;34m(\u001b[0m\u001b[0mlink\u001b[0m\u001b[0;34m,\u001b[0m \u001b[0mfilename\u001b[0m\u001b[0;34m=\u001b[0m\u001b[0mos\u001b[0m\u001b[0;34m.\u001b[0m\u001b[0mpath\u001b[0m\u001b[0;34m.\u001b[0m\u001b[0mjoin\u001b[0m\u001b[0;34m(\u001b[0m\u001b[0mpath\u001b[0m\u001b[0;34m,\u001b[0m \u001b[0;34m'zip_{}.zip'\u001b[0m\u001b[0;34m.\u001b[0m\u001b[0mformat\u001b[0m\u001b[0;34m(\u001b[0m\u001b[0mi\u001b[0m\u001b[0;34m)\u001b[0m\u001b[0;34m)\u001b[0m\u001b[0;34m)\u001b[0m\u001b[0;34m)\u001b[0m\u001b[0;34m\u001b[0m\u001b[0;34m\u001b[0m\u001b[0m\n\u001b[0m\u001b[1;32m      9\u001b[0m   \u001b[0mi\u001b[0m\u001b[0;34m+=\u001b[0m\u001b[0;36m1\u001b[0m\u001b[0;34m\u001b[0m\u001b[0;34m\u001b[0m\u001b[0m\n",
            "\u001b[0;32m/usr/lib/python3.7/urllib/request.py\u001b[0m in \u001b[0;36murlretrieve\u001b[0;34m(url, filename, reporthook, data)\u001b[0m\n\u001b[1;32m    274\u001b[0m \u001b[0;34m\u001b[0m\u001b[0m\n\u001b[1;32m    275\u001b[0m             \u001b[0;32mwhile\u001b[0m \u001b[0;32mTrue\u001b[0m\u001b[0;34m:\u001b[0m\u001b[0;34m\u001b[0m\u001b[0;34m\u001b[0m\u001b[0m\n\u001b[0;32m--> 276\u001b[0;31m                 \u001b[0mblock\u001b[0m \u001b[0;34m=\u001b[0m \u001b[0mfp\u001b[0m\u001b[0;34m.\u001b[0m\u001b[0mread\u001b[0m\u001b[0;34m(\u001b[0m\u001b[0mbs\u001b[0m\u001b[0;34m)\u001b[0m\u001b[0;34m\u001b[0m\u001b[0;34m\u001b[0m\u001b[0m\n\u001b[0m\u001b[1;32m    277\u001b[0m                 \u001b[0;32mif\u001b[0m \u001b[0;32mnot\u001b[0m \u001b[0mblock\u001b[0m\u001b[0;34m:\u001b[0m\u001b[0;34m\u001b[0m\u001b[0;34m\u001b[0m\u001b[0m\n\u001b[1;32m    278\u001b[0m                     \u001b[0;32mbreak\u001b[0m\u001b[0;34m\u001b[0m\u001b[0;34m\u001b[0m\u001b[0m\n",
            "\u001b[0;32m/usr/lib/python3.7/http/client.py\u001b[0m in \u001b[0;36mread\u001b[0;34m(self, amt)\u001b[0m\n\u001b[1;32m    463\u001b[0m             \u001b[0;31m# Amount is given, implement using readinto\u001b[0m\u001b[0;34m\u001b[0m\u001b[0;34m\u001b[0m\u001b[0;34m\u001b[0m\u001b[0m\n\u001b[1;32m    464\u001b[0m             \u001b[0mb\u001b[0m \u001b[0;34m=\u001b[0m \u001b[0mbytearray\u001b[0m\u001b[0;34m(\u001b[0m\u001b[0mamt\u001b[0m\u001b[0;34m)\u001b[0m\u001b[0;34m\u001b[0m\u001b[0;34m\u001b[0m\u001b[0m\n\u001b[0;32m--> 465\u001b[0;31m             \u001b[0mn\u001b[0m \u001b[0;34m=\u001b[0m \u001b[0mself\u001b[0m\u001b[0;34m.\u001b[0m\u001b[0mreadinto\u001b[0m\u001b[0;34m(\u001b[0m\u001b[0mb\u001b[0m\u001b[0;34m)\u001b[0m\u001b[0;34m\u001b[0m\u001b[0;34m\u001b[0m\u001b[0m\n\u001b[0m\u001b[1;32m    466\u001b[0m             \u001b[0;32mreturn\u001b[0m \u001b[0mmemoryview\u001b[0m\u001b[0;34m(\u001b[0m\u001b[0mb\u001b[0m\u001b[0;34m)\u001b[0m\u001b[0;34m[\u001b[0m\u001b[0;34m:\u001b[0m\u001b[0mn\u001b[0m\u001b[0;34m]\u001b[0m\u001b[0;34m.\u001b[0m\u001b[0mtobytes\u001b[0m\u001b[0;34m(\u001b[0m\u001b[0;34m)\u001b[0m\u001b[0;34m\u001b[0m\u001b[0;34m\u001b[0m\u001b[0m\n\u001b[1;32m    467\u001b[0m         \u001b[0;32melse\u001b[0m\u001b[0;34m:\u001b[0m\u001b[0;34m\u001b[0m\u001b[0;34m\u001b[0m\u001b[0m\n",
            "\u001b[0;32m/usr/lib/python3.7/http/client.py\u001b[0m in \u001b[0;36mreadinto\u001b[0;34m(self, b)\u001b[0m\n\u001b[1;32m    507\u001b[0m         \u001b[0;31m# connection, and the user is reading more bytes than will be provided\u001b[0m\u001b[0;34m\u001b[0m\u001b[0;34m\u001b[0m\u001b[0;34m\u001b[0m\u001b[0m\n\u001b[1;32m    508\u001b[0m         \u001b[0;31m# (for example, reading in 1k chunks)\u001b[0m\u001b[0;34m\u001b[0m\u001b[0;34m\u001b[0m\u001b[0;34m\u001b[0m\u001b[0m\n\u001b[0;32m--> 509\u001b[0;31m         \u001b[0mn\u001b[0m \u001b[0;34m=\u001b[0m \u001b[0mself\u001b[0m\u001b[0;34m.\u001b[0m\u001b[0mfp\u001b[0m\u001b[0;34m.\u001b[0m\u001b[0mreadinto\u001b[0m\u001b[0;34m(\u001b[0m\u001b[0mb\u001b[0m\u001b[0;34m)\u001b[0m\u001b[0;34m\u001b[0m\u001b[0;34m\u001b[0m\u001b[0m\n\u001b[0m\u001b[1;32m    510\u001b[0m         \u001b[0;32mif\u001b[0m \u001b[0;32mnot\u001b[0m \u001b[0mn\u001b[0m \u001b[0;32mand\u001b[0m \u001b[0mb\u001b[0m\u001b[0;34m:\u001b[0m\u001b[0;34m\u001b[0m\u001b[0;34m\u001b[0m\u001b[0m\n\u001b[1;32m    511\u001b[0m             \u001b[0;31m# Ideally, we would raise IncompleteRead if the content-length\u001b[0m\u001b[0;34m\u001b[0m\u001b[0;34m\u001b[0m\u001b[0;34m\u001b[0m\u001b[0m\n",
            "\u001b[0;32m/usr/lib/python3.7/socket.py\u001b[0m in \u001b[0;36mreadinto\u001b[0;34m(self, b)\u001b[0m\n\u001b[1;32m    587\u001b[0m         \u001b[0;32mwhile\u001b[0m \u001b[0;32mTrue\u001b[0m\u001b[0;34m:\u001b[0m\u001b[0;34m\u001b[0m\u001b[0;34m\u001b[0m\u001b[0m\n\u001b[1;32m    588\u001b[0m             \u001b[0;32mtry\u001b[0m\u001b[0;34m:\u001b[0m\u001b[0;34m\u001b[0m\u001b[0;34m\u001b[0m\u001b[0m\n\u001b[0;32m--> 589\u001b[0;31m                 \u001b[0;32mreturn\u001b[0m \u001b[0mself\u001b[0m\u001b[0;34m.\u001b[0m\u001b[0m_sock\u001b[0m\u001b[0;34m.\u001b[0m\u001b[0mrecv_into\u001b[0m\u001b[0;34m(\u001b[0m\u001b[0mb\u001b[0m\u001b[0;34m)\u001b[0m\u001b[0;34m\u001b[0m\u001b[0;34m\u001b[0m\u001b[0m\n\u001b[0m\u001b[1;32m    590\u001b[0m             \u001b[0;32mexcept\u001b[0m \u001b[0mtimeout\u001b[0m\u001b[0;34m:\u001b[0m\u001b[0;34m\u001b[0m\u001b[0;34m\u001b[0m\u001b[0m\n\u001b[1;32m    591\u001b[0m                 \u001b[0mself\u001b[0m\u001b[0;34m.\u001b[0m\u001b[0m_timeout_occurred\u001b[0m \u001b[0;34m=\u001b[0m \u001b[0;32mTrue\u001b[0m\u001b[0;34m\u001b[0m\u001b[0;34m\u001b[0m\u001b[0m\n",
            "\u001b[0;32m/usr/lib/python3.7/ssl.py\u001b[0m in \u001b[0;36mrecv_into\u001b[0;34m(self, buffer, nbytes, flags)\u001b[0m\n\u001b[1;32m   1069\u001b[0m                   \u001b[0;34m\"non-zero flags not allowed in calls to recv_into() on %s\"\u001b[0m \u001b[0;34m%\u001b[0m\u001b[0;34m\u001b[0m\u001b[0;34m\u001b[0m\u001b[0m\n\u001b[1;32m   1070\u001b[0m                   self.__class__)\n\u001b[0;32m-> 1071\u001b[0;31m             \u001b[0;32mreturn\u001b[0m \u001b[0mself\u001b[0m\u001b[0;34m.\u001b[0m\u001b[0mread\u001b[0m\u001b[0;34m(\u001b[0m\u001b[0mnbytes\u001b[0m\u001b[0;34m,\u001b[0m \u001b[0mbuffer\u001b[0m\u001b[0;34m)\u001b[0m\u001b[0;34m\u001b[0m\u001b[0;34m\u001b[0m\u001b[0m\n\u001b[0m\u001b[1;32m   1072\u001b[0m         \u001b[0;32melse\u001b[0m\u001b[0;34m:\u001b[0m\u001b[0;34m\u001b[0m\u001b[0;34m\u001b[0m\u001b[0m\n\u001b[1;32m   1073\u001b[0m             \u001b[0;32mreturn\u001b[0m \u001b[0msuper\u001b[0m\u001b[0;34m(\u001b[0m\u001b[0;34m)\u001b[0m\u001b[0;34m.\u001b[0m\u001b[0mrecv_into\u001b[0m\u001b[0;34m(\u001b[0m\u001b[0mbuffer\u001b[0m\u001b[0;34m,\u001b[0m \u001b[0mnbytes\u001b[0m\u001b[0;34m,\u001b[0m \u001b[0mflags\u001b[0m\u001b[0;34m)\u001b[0m\u001b[0;34m\u001b[0m\u001b[0;34m\u001b[0m\u001b[0m\n",
            "\u001b[0;32m/usr/lib/python3.7/ssl.py\u001b[0m in \u001b[0;36mread\u001b[0;34m(self, len, buffer)\u001b[0m\n\u001b[1;32m    927\u001b[0m         \u001b[0;32mtry\u001b[0m\u001b[0;34m:\u001b[0m\u001b[0;34m\u001b[0m\u001b[0;34m\u001b[0m\u001b[0m\n\u001b[1;32m    928\u001b[0m             \u001b[0;32mif\u001b[0m \u001b[0mbuffer\u001b[0m \u001b[0;32mis\u001b[0m \u001b[0;32mnot\u001b[0m \u001b[0;32mNone\u001b[0m\u001b[0;34m:\u001b[0m\u001b[0;34m\u001b[0m\u001b[0;34m\u001b[0m\u001b[0m\n\u001b[0;32m--> 929\u001b[0;31m                 \u001b[0;32mreturn\u001b[0m \u001b[0mself\u001b[0m\u001b[0;34m.\u001b[0m\u001b[0m_sslobj\u001b[0m\u001b[0;34m.\u001b[0m\u001b[0mread\u001b[0m\u001b[0;34m(\u001b[0m\u001b[0mlen\u001b[0m\u001b[0;34m,\u001b[0m \u001b[0mbuffer\u001b[0m\u001b[0;34m)\u001b[0m\u001b[0;34m\u001b[0m\u001b[0;34m\u001b[0m\u001b[0m\n\u001b[0m\u001b[1;32m    930\u001b[0m             \u001b[0;32melse\u001b[0m\u001b[0;34m:\u001b[0m\u001b[0;34m\u001b[0m\u001b[0;34m\u001b[0m\u001b[0m\n\u001b[1;32m    931\u001b[0m                 \u001b[0;32mreturn\u001b[0m \u001b[0mself\u001b[0m\u001b[0;34m.\u001b[0m\u001b[0m_sslobj\u001b[0m\u001b[0;34m.\u001b[0m\u001b[0mread\u001b[0m\u001b[0;34m(\u001b[0m\u001b[0mlen\u001b[0m\u001b[0;34m)\u001b[0m\u001b[0;34m\u001b[0m\u001b[0;34m\u001b[0m\u001b[0m\n",
            "\u001b[0;31mKeyboardInterrupt\u001b[0m: "
          ]
        }
      ]
    },
    {
      "cell_type": "code",
      "source": [
        "from zipfile import ZipFile\n",
        "\n",
        "with ZipFile(os.path.join(path, 'zip_0.zip'), 'r') as zip:\n",
        "  zip.extractall()"
      ],
      "metadata": {
        "id": "vUFTj6_FuCq0"
      },
      "execution_count": 5,
      "outputs": []
    },
    {
      "cell_type": "markdown",
      "source": [
        "Now that we have images in a folder, let's start with the actual implementation of model"
      ],
      "metadata": {
        "id": "WPzjvH44ugo_"
      }
    },
    {
      "cell_type": "code",
      "source": [
        "import torchvision\n",
        "import PIL.Image\n",
        "import numpy as np"
      ],
      "metadata": {
        "id": "OphfEXOeY-ML"
      },
      "execution_count": 6,
      "outputs": []
    },
    {
      "cell_type": "code",
      "source": [
        "# creating a dataset object\n",
        "import os\n",
        "import pandas as pd\n",
        "from torchvision.io import read_image\n",
        "from torch.utils.data import Dataset\n",
        "import torch\n",
        "from skimage import io\n",
        "\n",
        "mask = []\n",
        "\n",
        "class CustomImageDataset(Dataset):\n",
        "    '''\n",
        "    Adds only key slices to the dataset\n",
        "    '''\n",
        "    def __init__(self, csv_file, root_dir, transform=None):\n",
        "        self.img_labels=pd.read_csv(csv_file)\n",
        "        self.root_dir = root_dir\n",
        "        self.transforms = transform\n",
        "    def __len__(self):\n",
        "        return len(self.img_labels)\n",
        "    def __getitem__(self, idx):\n",
        "        if torch.is_tensor(idx):\n",
        "          idx = idx = idx.tolist()\n",
        "        img_name = os.path.join(self.root_dir, \n",
        "                                '_'.join(self.img_labels.iloc[idx, 0].split('_')[0:3]),\n",
        "                                self.img_labels.iloc[idx, 0].split('_')[-1])\n",
        "        if not os.path.exists(img_name):\n",
        "            print(\"added {} to mask\".format(img_name))\n",
        "            mask.append(False)\n",
        "            return None\n",
        "        \n",
        "        mask.append(True)\n",
        "\n",
        "        image = io.imread(img_name)\n",
        "        sample = {'image':image}\n",
        "\n",
        "        if self.transforms:\n",
        "          sample = self.transforms(sample)\n",
        "\n",
        "        return sample\n"
      ],
      "metadata": {
        "id": "-_7zA3J2ufTi"
      },
      "execution_count": 7,
      "outputs": []
    },
    {
      "cell_type": "code",
      "source": [
        "def downsample(img, downsample_ratio, height=512, width=512):\n",
        "    transforms=torchvision.transforms.Compose([torchvision.transforms.ToPILImage()])\n",
        "    img = transforms(img)\n",
        "    img = torchvision.transforms.functional.resize(img, \n",
        "                ((int)(img.size[1]/downsample_ratio), \n",
        "                (int)(img.size[0]/downsample_ratio)), \n",
        "                interpolation=torchvision.transforms.transforms.InterpolationMode.NEAREST)\n",
        "\n",
        "    img = torchvision.transforms.functional.resize(img,\n",
        "                ((int)(img.size[1]*downsample_ratio),\n",
        "                (int)(img.size[0]*downsample_ratio)), interpolation=torchvision.transforms.transforms.InterpolationMode.NEAREST)\n",
        "    transform = torchvision.transforms.Compose([torchvision.transforms.Resize((height, width))])\n",
        "    img = transform(img)\n",
        "    return img\n",
        "    \n",
        "# def normalising_windows(min, max, values):\n",
        "#         return (values-min)/((max-min)*1.0)\n",
        "\n",
        "def windowing(img):\n",
        "    '''\n",
        "    TODO:: try only subtracting \n",
        "    '''\n",
        "    img = img['image']\n",
        "    img = np.array(img)\n",
        "    max = (np.amax(np.amax(img, axis=1), axis=0))\n",
        "    min = (np.amin(np.amin(img, axis=1), axis=0))\n",
        "    \n",
        "    img = img - min\n",
        "    img = img / (max - min)\n",
        "    \n",
        "    img = img.astype('float32')\n",
        "    \n",
        "    return img"
      ],
      "metadata": {
        "id": "YONfbhOVY654"
      },
      "execution_count": 34,
      "outputs": []
    },
    {
      "cell_type": "code",
      "source": [
        "class custom_transformation():\n",
        "    def __call__(self, img, ratio=2):\n",
        "        if img is None:\n",
        "            return None\n",
        "        img = windowing(img)\n",
        "        img = downsample(img, ratio, height=512, width=512)\n",
        "        transform = torchvision.transforms.Compose([torchvision.transforms.ToTensor()])\n",
        "        img = transform(img)\n",
        "        return img\n",
        "    def __repr__(self):\n",
        "        return \"custom transformation\"\n",
        "        "
      ],
      "metadata": {
        "id": "dIOiDuIcZZzN"
      },
      "execution_count": 35,
      "outputs": []
    },
    {
      "cell_type": "code",
      "source": [
        "dataset = CustomImageDataset('DL_info.csv', 'Images_png', transform=custom_transformation())\n",
        "\n",
        "# dataset = torch.utils.data.Subset(dataset, mask)\n",
        "\n",
        "import torch.utils.data as data_utils\n",
        "\n",
        "indices = torch.arange(690) ## TODO: change this, once you are using more\n",
        "dataset = data_utils.Subset(dataset, indices)"
      ],
      "metadata": {
        "id": "I8S5S-oMv91J"
      },
      "execution_count": 36,
      "outputs": []
    },
    {
      "cell_type": "code",
      "source": [
        "print(len(dataset))"
      ],
      "metadata": {
        "colab": {
          "base_uri": "https://localhost:8080/"
        },
        "id": "2EQUjS4Z6HOq",
        "outputId": "b4bfa209-58b8-40ec-9d82-7c46bbcfc4a5"
      },
      "execution_count": 37,
      "outputs": [
        {
          "output_type": "stream",
          "name": "stdout",
          "text": [
            "690\n"
          ]
        }
      ]
    },
    {
      "cell_type": "code",
      "source": [
        "for i in dataset:\n",
        "  print(i)\n",
        "  break"
      ],
      "metadata": {
        "colab": {
          "base_uri": "https://localhost:8080/"
        },
        "id": "nNr5e6gk6ZjW",
        "outputId": "afd8b458-adf6-4465-ad26-40d9e1a11387"
      },
      "execution_count": 41,
      "outputs": [
        {
          "output_type": "stream",
          "name": "stdout",
          "text": [
            "tensor([[[0., 0., 0.,  ..., 0., 0., 0.],\n",
            "         [0., 0., 0.,  ..., 0., 0., 0.],\n",
            "         [0., 0., 0.,  ..., 0., 0., 0.],\n",
            "         ...,\n",
            "         [0., 0., 0.,  ..., 0., 0., 0.],\n",
            "         [0., 0., 0.,  ..., 0., 0., 0.],\n",
            "         [0., 0., 0.,  ..., 0., 0., 0.]]])\n"
          ]
        }
      ]
    },
    {
      "cell_type": "markdown",
      "source": [
        "Creating dataloader"
      ],
      "metadata": {
        "id": "5wkUt30n7PU2"
      }
    },
    {
      "cell_type": "code",
      "source": [
        "dataloader = torch.utils.data.DataLoader(\n",
        "    dataset, batch_size=64, shuffle=False, num_workers=0\n",
        ")"
      ],
      "metadata": {
        "id": "q51W21_T7S6E"
      },
      "execution_count": 39,
      "outputs": []
    },
    {
      "cell_type": "code",
      "source": [
        "for i in dataloader:\n",
        "  print(i.shape) ## batch, color channel, height, width\n",
        "  print(i)\n",
        "  break"
      ],
      "metadata": {
        "colab": {
          "base_uri": "https://localhost:8080/"
        },
        "id": "HAXoJqZ6i59R",
        "outputId": "82db164c-d07d-4973-aa06-62508cc901fe"
      },
      "execution_count": 55,
      "outputs": [
        {
          "output_type": "stream",
          "name": "stdout",
          "text": [
            "torch.Size([64, 1, 512, 512])\n",
            "tensor([[[[0.0000, 0.0000, 0.0000,  ..., 0.0000, 0.0000, 0.0000],\n",
            "          [0.0000, 0.0000, 0.0000,  ..., 0.0000, 0.0000, 0.0000],\n",
            "          [0.0000, 0.0000, 0.0000,  ..., 0.0000, 0.0000, 0.0000],\n",
            "          ...,\n",
            "          [0.0000, 0.0000, 0.0000,  ..., 0.0000, 0.0000, 0.0000],\n",
            "          [0.0000, 0.0000, 0.0000,  ..., 0.0000, 0.0000, 0.0000],\n",
            "          [0.0000, 0.0000, 0.0000,  ..., 0.0000, 0.0000, 0.0000]]],\n",
            "\n",
            "\n",
            "        [[[0.0088, 0.0088, 0.0081,  ..., 0.0451, 0.0326, 0.0326],\n",
            "          [0.0088, 0.0088, 0.0081,  ..., 0.0451, 0.0326, 0.0326],\n",
            "          [0.0125, 0.0125, 0.0056,  ..., 0.0489, 0.0376, 0.0376],\n",
            "          ...,\n",
            "          [0.1197, 0.1197, 0.1335,  ..., 0.0971, 0.0965, 0.0965],\n",
            "          [0.1109, 0.1109, 0.1184,  ..., 0.0959, 0.0921, 0.0921],\n",
            "          [0.1109, 0.1109, 0.1184,  ..., 0.0959, 0.0921, 0.0921]]],\n",
            "\n",
            "\n",
            "        [[[0.0297, 0.0297, 0.0192,  ..., 0.0397, 0.0229, 0.0229],\n",
            "          [0.0297, 0.0297, 0.0192,  ..., 0.0397, 0.0229, 0.0229],\n",
            "          [0.0248, 0.0248, 0.0118,  ..., 0.0409, 0.0260, 0.0260],\n",
            "          ...,\n",
            "          [0.1066, 0.1066, 0.0967,  ..., 0.1171, 0.1072, 0.1072],\n",
            "          [0.1084, 0.1084, 0.1004,  ..., 0.0954, 0.0942, 0.0942],\n",
            "          [0.1084, 0.1084, 0.1004,  ..., 0.0954, 0.0942, 0.0942]]],\n",
            "\n",
            "\n",
            "        ...,\n",
            "\n",
            "\n",
            "        [[[0.0000, 0.0000, 0.0000,  ..., 0.0000, 0.0000, 0.0000],\n",
            "          [0.0000, 0.0000, 0.0000,  ..., 0.0000, 0.0000, 0.0000],\n",
            "          [0.0000, 0.0000, 0.0000,  ..., 0.0000, 0.0000, 0.0000],\n",
            "          ...,\n",
            "          [0.0000, 0.0000, 0.0000,  ..., 0.0000, 0.0000, 0.0000],\n",
            "          [0.0000, 0.0000, 0.0000,  ..., 0.0000, 0.0000, 0.0000],\n",
            "          [0.0000, 0.0000, 0.0000,  ..., 0.0000, 0.0000, 0.0000]]],\n",
            "\n",
            "\n",
            "        [[[0.0000, 0.0000, 0.0000,  ..., 0.0000, 0.0000, 0.0000],\n",
            "          [0.0000, 0.0000, 0.0000,  ..., 0.0000, 0.0000, 0.0000],\n",
            "          [0.0000, 0.0000, 0.0000,  ..., 0.0000, 0.0000, 0.0000],\n",
            "          ...,\n",
            "          [0.0000, 0.0000, 0.0000,  ..., 0.0000, 0.0000, 0.0000],\n",
            "          [0.0000, 0.0000, 0.0000,  ..., 0.0000, 0.0000, 0.0000],\n",
            "          [0.0000, 0.0000, 0.0000,  ..., 0.0000, 0.0000, 0.0000]]],\n",
            "\n",
            "\n",
            "        [[[0.0000, 0.0000, 0.0000,  ..., 0.0000, 0.0000, 0.0000],\n",
            "          [0.0000, 0.0000, 0.0000,  ..., 0.0000, 0.0000, 0.0000],\n",
            "          [0.0000, 0.0000, 0.0000,  ..., 0.0000, 0.0000, 0.0000],\n",
            "          ...,\n",
            "          [0.0000, 0.0000, 0.0000,  ..., 0.0000, 0.0000, 0.0000],\n",
            "          [0.0000, 0.0000, 0.0000,  ..., 0.0000, 0.0000, 0.0000],\n",
            "          [0.0000, 0.0000, 0.0000,  ..., 0.0000, 0.0000, 0.0000]]]])\n"
          ]
        }
      ]
    },
    {
      "cell_type": "markdown",
      "source": [
        "Now that I have dataloaders, I need to store them into a file format which can then be used by the SWIN IR model"
      ],
      "metadata": {
        "id": "-7E9ic0GdJHr"
      }
    },
    {
      "cell_type": "code",
      "source": [
        "from PIL import Image"
      ],
      "metadata": {
        "id": "h5dX1YYjfqaH"
      },
      "execution_count": 43,
      "outputs": []
    },
    {
      "cell_type": "code",
      "source": [
        "low_res_path = '/content/low_res'\n",
        "for batch in dataloader:\n",
        "  for image in batch:\n",
        "    print(image.shape)\n",
        "    image = image.numpy()\n",
        "    print(image.shape)\n",
        "    image = image*255\n",
        "    image = image.astype(np.uint8)\n",
        "    image = Image.fromarray(image)\n",
        "    image.save(\"file.png\")\n",
        "    break\n",
        "  break\n",
        "\n"
      ],
      "metadata": {
        "colab": {
          "base_uri": "https://localhost:8080/",
          "height": 467
        },
        "id": "R1Ibc4BldSZR",
        "outputId": "2bfbb756-33a1-4d54-b05e-5e5c76c981c6"
      },
      "execution_count": 54,
      "outputs": [
        {
          "output_type": "stream",
          "name": "stdout",
          "text": [
            "torch.Size([1, 512, 512])\n",
            "(1, 512, 512)\n"
          ]
        },
        {
          "output_type": "error",
          "ename": "TypeError",
          "evalue": "ignored",
          "traceback": [
            "\u001b[0;31m---------------------------------------------------------------------------\u001b[0m",
            "\u001b[0;31mKeyError\u001b[0m                                  Traceback (most recent call last)",
            "\u001b[0;32m/usr/local/lib/python3.7/dist-packages/PIL/Image.py\u001b[0m in \u001b[0;36mfromarray\u001b[0;34m(obj, mode)\u001b[0m\n\u001b[1;32m   2713\u001b[0m         \u001b[0;32mtry\u001b[0m\u001b[0;34m:\u001b[0m\u001b[0;34m\u001b[0m\u001b[0;34m\u001b[0m\u001b[0m\n\u001b[0;32m-> 2714\u001b[0;31m             \u001b[0mmode\u001b[0m\u001b[0;34m,\u001b[0m \u001b[0mrawmode\u001b[0m \u001b[0;34m=\u001b[0m \u001b[0m_fromarray_typemap\u001b[0m\u001b[0;34m[\u001b[0m\u001b[0mtypekey\u001b[0m\u001b[0;34m]\u001b[0m\u001b[0;34m\u001b[0m\u001b[0;34m\u001b[0m\u001b[0m\n\u001b[0m\u001b[1;32m   2715\u001b[0m         \u001b[0;32mexcept\u001b[0m \u001b[0mKeyError\u001b[0m\u001b[0;34m:\u001b[0m\u001b[0;34m\u001b[0m\u001b[0;34m\u001b[0m\u001b[0m\n",
            "\u001b[0;31mKeyError\u001b[0m: ((1, 1, 512), '|u1')",
            "\nDuring handling of the above exception, another exception occurred:\n",
            "\u001b[0;31mTypeError\u001b[0m                                 Traceback (most recent call last)",
            "\u001b[0;32m<ipython-input-54-af13958046d4>\u001b[0m in \u001b[0;36m<module>\u001b[0;34m()\u001b[0m\n\u001b[1;32m      7\u001b[0m     \u001b[0mimage\u001b[0m \u001b[0;34m=\u001b[0m \u001b[0mimage\u001b[0m\u001b[0;34m*\u001b[0m\u001b[0;36m255\u001b[0m\u001b[0;34m\u001b[0m\u001b[0;34m\u001b[0m\u001b[0m\n\u001b[1;32m      8\u001b[0m     \u001b[0mimage\u001b[0m \u001b[0;34m=\u001b[0m \u001b[0mimage\u001b[0m\u001b[0;34m.\u001b[0m\u001b[0mastype\u001b[0m\u001b[0;34m(\u001b[0m\u001b[0mnp\u001b[0m\u001b[0;34m.\u001b[0m\u001b[0muint8\u001b[0m\u001b[0;34m)\u001b[0m\u001b[0;34m\u001b[0m\u001b[0;34m\u001b[0m\u001b[0m\n\u001b[0;32m----> 9\u001b[0;31m     \u001b[0mimage\u001b[0m \u001b[0;34m=\u001b[0m \u001b[0mImage\u001b[0m\u001b[0;34m.\u001b[0m\u001b[0mfromarray\u001b[0m\u001b[0;34m(\u001b[0m\u001b[0mimage\u001b[0m\u001b[0;34m)\u001b[0m\u001b[0;34m\u001b[0m\u001b[0;34m\u001b[0m\u001b[0m\n\u001b[0m\u001b[1;32m     10\u001b[0m     \u001b[0mimage\u001b[0m\u001b[0;34m.\u001b[0m\u001b[0msave\u001b[0m\u001b[0;34m(\u001b[0m\u001b[0;34m\"file.png\"\u001b[0m\u001b[0;34m)\u001b[0m\u001b[0;34m\u001b[0m\u001b[0;34m\u001b[0m\u001b[0m\n\u001b[1;32m     11\u001b[0m     \u001b[0;32mbreak\u001b[0m\u001b[0;34m\u001b[0m\u001b[0;34m\u001b[0m\u001b[0m\n",
            "\u001b[0;32m/usr/local/lib/python3.7/dist-packages/PIL/Image.py\u001b[0m in \u001b[0;36mfromarray\u001b[0;34m(obj, mode)\u001b[0m\n\u001b[1;32m   2714\u001b[0m             \u001b[0mmode\u001b[0m\u001b[0;34m,\u001b[0m \u001b[0mrawmode\u001b[0m \u001b[0;34m=\u001b[0m \u001b[0m_fromarray_typemap\u001b[0m\u001b[0;34m[\u001b[0m\u001b[0mtypekey\u001b[0m\u001b[0;34m]\u001b[0m\u001b[0;34m\u001b[0m\u001b[0;34m\u001b[0m\u001b[0m\n\u001b[1;32m   2715\u001b[0m         \u001b[0;32mexcept\u001b[0m \u001b[0mKeyError\u001b[0m\u001b[0;34m:\u001b[0m\u001b[0;34m\u001b[0m\u001b[0;34m\u001b[0m\u001b[0m\n\u001b[0;32m-> 2716\u001b[0;31m             \u001b[0;32mraise\u001b[0m \u001b[0mTypeError\u001b[0m\u001b[0;34m(\u001b[0m\u001b[0;34m\"Cannot handle this data type: %s, %s\"\u001b[0m \u001b[0;34m%\u001b[0m \u001b[0mtypekey\u001b[0m\u001b[0;34m)\u001b[0m\u001b[0;34m\u001b[0m\u001b[0;34m\u001b[0m\u001b[0m\n\u001b[0m\u001b[1;32m   2717\u001b[0m     \u001b[0;32melse\u001b[0m\u001b[0;34m:\u001b[0m\u001b[0;34m\u001b[0m\u001b[0;34m\u001b[0m\u001b[0m\n\u001b[1;32m   2718\u001b[0m         \u001b[0mrawmode\u001b[0m \u001b[0;34m=\u001b[0m \u001b[0mmode\u001b[0m\u001b[0;34m\u001b[0m\u001b[0;34m\u001b[0m\u001b[0m\n",
            "\u001b[0;31mTypeError\u001b[0m: Cannot handle this data type: (1, 1, 512), |u1"
          ]
        }
      ]
    },
    {
      "cell_type": "markdown",
      "source": [
        "Downloading SWIN IR model\n",
        "\n"
      ],
      "metadata": {
        "id": "MAJRICROAq3c"
      }
    },
    {
      "cell_type": "code",
      "source": [
        ""
      ],
      "metadata": {
        "colab": {
          "base_uri": "https://localhost:8080/"
        },
        "id": "GTFABpH2H8mQ",
        "outputId": "c4376252-14ef-4b95-9aa9-145348ed2f3c"
      },
      "execution_count": null,
      "outputs": [
        {
          "output_type": "stream",
          "name": "stdout",
          "text": [
            "curl 7.58.0 (x86_64-pc-linux-gnu) libcurl/7.58.0 OpenSSL/1.1.1 zlib/1.2.11 libidn2/2.0.4 libpsl/0.19.1 (+libidn2/2.0.4) nghttp2/1.30.0 librtmp/2.3\n",
            "Release-Date: 2018-01-24\n",
            "Protocols: dict file ftp ftps gopher http https imap imaps ldap ldaps pop3 pop3s rtmp rtsp smb smbs smtp smtps telnet tftp \n",
            "Features: AsynchDNS IDN IPv6 Largefile GSS-API Kerberos SPNEGO NTLM NTLM_WB SSL libz TLS-SRP HTTP2 UnixSockets HTTPS-proxy PSL \n"
          ]
        }
      ]
    },
    {
      "cell_type": "code",
      "source": [
        "!wget 'https://raw.githubusercontent.com/cszn/KAIR/06bd194f4cd0da6f4159c058b6fb5b9be689c18a/main_train_psnr.py'\n",
        "!wget 'https://raw.githubusercontent.com/cszn/KAIR/master/utils/utils_logger.py'\n",
        "!wget 'https://raw.githubusercontent.com/cszn/KAIR/master/utils/utils_image.py'\n",
        "!wget 'https://raw.githubusercontent.com/cszn/KAIR/master/utils/utils_option.py'\n",
        "!wget 'https://raw.githubusercontent.com/cszn/KAIR/master/utils/utils_dist.py'\n",
        "!wget 'https://raw.githubusercontent.com/cszn/KAIR/master/data/select_dataset.py'\n",
        "!wget 'https://raw.githubusercontent.com/cszn/KAIR/master/models/select_model.py'\n",
        "!wget 'https://raw.githubusercontent.com/cszn/KAIR/master/options/swinir/train_swinir_denoising_gray.json'"
      ],
      "metadata": {
        "id": "AOpIrxjwGetN"
      },
      "execution_count": null,
      "outputs": []
    },
    {
      "cell_type": "code",
      "source": [
        ""
      ],
      "metadata": {
        "id": "408LiGcIKs7O"
      },
      "execution_count": null,
      "outputs": []
    },
    {
      "cell_type": "code",
      "source": [
        "!wget 'https://raw.githubusercontent.com/cszn/KAIR/06bd194f4cd0da6f4159c058b6fb5b9be689c18a/main_train_psnr.py'"
      ],
      "metadata": {
        "id": "SU2Dmb5sD-7U",
        "colab": {
          "base_uri": "https://localhost:8080/"
        },
        "outputId": "bb3a7f25-776d-4c71-a907-9c842a8866b4"
      },
      "execution_count": 26,
      "outputs": [
        {
          "output_type": "stream",
          "name": "stdout",
          "text": [
            "--2022-06-21 13:21:59--  https://raw.githubusercontent.com/cszn/KAIR/06bd194f4cd0da6f4159c058b6fb5b9be689c18a/main_train_psnr.py\n",
            "Resolving raw.githubusercontent.com (raw.githubusercontent.com)... 185.199.108.133, 185.199.109.133, 185.199.110.133, ...\n",
            "Connecting to raw.githubusercontent.com (raw.githubusercontent.com)|185.199.108.133|:443... connected.\n",
            "HTTP request sent, awaiting response... 200 OK\n",
            "Length: 9688 (9.5K) [text/plain]\n",
            "Saving to: ‘main_train_psnr.py.1’\n",
            "\n",
            "\rmain_train_psnr.py.   0%[                    ]       0  --.-KB/s               \rmain_train_psnr.py. 100%[===================>]   9.46K  --.-KB/s    in 0s      \n",
            "\n",
            "2022-06-21 13:21:59 (59.2 MB/s) - ‘main_train_psnr.py.1’ saved [9688/9688]\n",
            "\n"
          ]
        }
      ]
    },
    {
      "cell_type": "code",
      "source": [
        ""
      ],
      "metadata": {
        "id": "V_ZYI6XTMbO0"
      },
      "execution_count": null,
      "outputs": []
    },
    {
      "cell_type": "code",
      "source": [
        "!python -m torch.distributed.launch --nproc_per_node=8 --master_port=1234 main_train_psnr.py --opt options/swinir/train_swinir_denoising_gray.json  --dist True"
      ],
      "metadata": {
        "id": "anjRhndaAqQr",
        "colab": {
          "base_uri": "https://localhost:8080/"
        },
        "outputId": "c0e47752-87b2-4732-b544-2c804bd23b7e"
      },
      "execution_count": 28,
      "outputs": [
        {
          "output_type": "stream",
          "name": "stdout",
          "text": [
            "/usr/local/lib/python3.7/dist-packages/torch/distributed/launch.py:186: FutureWarning: The module torch.distributed.launch is deprecated\n",
            "and will be removed in future. Use torchrun.\n",
            "Note that --use_env is set by default in torchrun.\n",
            "If your script expects `--local_rank` argument to be set, please\n",
            "change it to read from `os.environ['LOCAL_RANK']` instead. See \n",
            "https://pytorch.org/docs/stable/distributed.html#launch-utility for \n",
            "further instructions\n",
            "\n",
            "  FutureWarning,\n",
            "WARNING:torch.distributed.run:\n",
            "*****************************************\n",
            "Setting OMP_NUM_THREADS environment variable for each process to be 1 in default, to avoid your system being overloaded, please further tune the variable for optimal performance in your application as needed. \n",
            "*****************************************\n",
            "export CUDA_VISIBLE_DEVICES=0,1,2,3,4,5,6,7\n",
            "number of GPUs is: 8\n",
            "export CUDA_VISIBLE_DEVICES=0,1,2,3,4,5,6,7\n",
            "number of GPUs is: 8\n",
            "export CUDA_VISIBLE_DEVICES=0,1,2,3,4,5,6,7\n",
            "number of GPUs is: 8\n",
            "export CUDA_VISIBLE_DEVICES=0,1,2,3,4,5,6,7\n",
            "number of GPUs is: 8\n",
            "export CUDA_VISIBLE_DEVICES=0,1,2,3,4,5,6,7\n",
            "number of GPUs is: 8\n",
            "export CUDA_VISIBLE_DEVICES=0,1,2,3,4,5,6,7\n",
            "number of GPUs is: 8\n",
            "Traceback (most recent call last):\n",
            "  File \"main_train_psnr.py\", line 251, in <module>\n",
            "    main()\n",
            "  File \"main_train_psnr.py\", line 55, in main\n",
            "    init_dist('pytorch')\n",
            "  File \"/content/utils/utils_dist.py\", line 17, in init_dist\n",
            "    _init_dist_pytorch(backend, **kwargs)\n",
            "  File \"/content/utils/utils_dist.py\", line 27, in _init_dist_pytorch\n",
            "    torch.cuda.set_device(rank % num_gpus)\n",
            "ZeroDivisionError: integer division or modulo by zero\n",
            "Traceback (most recent call last):\n",
            "  File \"main_train_psnr.py\", line 251, in <module>\n",
            "    main()\n",
            "  File \"main_train_psnr.py\", line 55, in main\n",
            "    init_dist('pytorch')\n",
            "  File \"/content/utils/utils_dist.py\", line 17, in init_dist\n",
            "    _init_dist_pytorch(backend, **kwargs)\n",
            "  File \"/content/utils/utils_dist.py\", line 27, in _init_dist_pytorch\n",
            "    torch.cuda.set_device(rank % num_gpus)\n",
            "ZeroDivisionError: integer division or modulo by zero\n",
            "Traceback (most recent call last):\n",
            "  File \"main_train_psnr.py\", line 251, in <module>\n",
            "    main()\n",
            "  File \"main_train_psnr.py\", line 55, in main\n",
            "    init_dist('pytorch')\n",
            "  File \"/content/utils/utils_dist.py\", line 17, in init_dist\n",
            "    _init_dist_pytorch(backend, **kwargs)\n",
            "  File \"/content/utils/utils_dist.py\", line 27, in _init_dist_pytorch\n",
            "    torch.cuda.set_device(rank % num_gpus)\n",
            "ZeroDivisionError: integer division or modulo by zero\n",
            "Traceback (most recent call last):\n",
            "  File \"main_train_psnr.py\", line 251, in <module>\n",
            "    main()\n",
            "  File \"main_train_psnr.py\", line 55, in main\n",
            "    init_dist('pytorch')\n",
            "  File \"/content/utils/utils_dist.py\", line 17, in init_dist\n",
            "    _init_dist_pytorch(backend, **kwargs)\n",
            "  File \"/content/utils/utils_dist.py\", line 27, in _init_dist_pytorch\n",
            "    torch.cuda.set_device(rank % num_gpus)\n",
            "ZeroDivisionError: integer division or modulo by zero\n",
            "Traceback (most recent call last):\n",
            "  File \"main_train_psnr.py\", line 251, in <module>\n",
            "    main()\n",
            "  File \"main_train_psnr.py\", line 55, in main\n",
            "    init_dist('pytorch')\n",
            "  File \"/content/utils/utils_dist.py\", line 17, in init_dist\n",
            "    _init_dist_pytorch(backend, **kwargs)\n",
            "  File \"/content/utils/utils_dist.py\", line 27, in _init_dist_pytorch\n",
            "    torch.cuda.set_device(rank % num_gpus)\n",
            "ZeroDivisionError: integer division or modulo by zero\n",
            "Traceback (most recent call last):\n",
            "  File \"main_train_psnr.py\", line 251, in <module>\n",
            "    main()\n",
            "  File \"main_train_psnr.py\", line 55, in main\n",
            "    init_dist('pytorch')\n",
            "  File \"/content/utils/utils_dist.py\", line 17, in init_dist\n",
            "    _init_dist_pytorch(backend, **kwargs)\n",
            "  File \"/content/utils/utils_dist.py\", line 27, in _init_dist_pytorch\n",
            "    torch.cuda.set_device(rank % num_gpus)\n",
            "ZeroDivisionError: integer division or modulo by zero\n",
            "export CUDA_VISIBLE_DEVICES=0,1,2,3,4,5,6,7\n",
            "number of GPUs is: 8\n",
            "Traceback (most recent call last):\n",
            "  File \"main_train_psnr.py\", line 251, in <module>\n",
            "    main()\n",
            "  File \"main_train_psnr.py\", line 55, in main\n",
            "    init_dist('pytorch')\n",
            "  File \"/content/utils/utils_dist.py\", line 17, in init_dist\n",
            "    _init_dist_pytorch(backend, **kwargs)\n",
            "  File \"/content/utils/utils_dist.py\", line 27, in _init_dist_pytorch\n",
            "    torch.cuda.set_device(rank % num_gpus)\n",
            "ZeroDivisionError: integer division or modulo by zero\n",
            "export CUDA_VISIBLE_DEVICES=0,1,2,3,4,5,6,7\n",
            "number of GPUs is: 8\n",
            "Traceback (most recent call last):\n",
            "  File \"main_train_psnr.py\", line 251, in <module>\n",
            "    main()\n",
            "  File \"main_train_psnr.py\", line 55, in main\n",
            "    init_dist('pytorch')\n",
            "  File \"/content/utils/utils_dist.py\", line 17, in init_dist\n",
            "    _init_dist_pytorch(backend, **kwargs)\n",
            "  File \"/content/utils/utils_dist.py\", line 27, in _init_dist_pytorch\n",
            "    torch.cuda.set_device(rank % num_gpus)\n",
            "ZeroDivisionError: integer division or modulo by zero\n",
            "ERROR:torch.distributed.elastic.multiprocessing.api:failed (exitcode: 1) local_rank: 0 (pid: 552) of binary: /usr/bin/python3\n",
            "Traceback (most recent call last):\n",
            "  File \"/usr/lib/python3.7/runpy.py\", line 193, in _run_module_as_main\n",
            "    \"__main__\", mod_spec)\n",
            "  File \"/usr/lib/python3.7/runpy.py\", line 85, in _run_code\n",
            "    exec(code, run_globals)\n",
            "  File \"/usr/local/lib/python3.7/dist-packages/torch/distributed/launch.py\", line 193, in <module>\n",
            "    main()\n",
            "  File \"/usr/local/lib/python3.7/dist-packages/torch/distributed/launch.py\", line 189, in main\n",
            "    launch(args)\n",
            "  File \"/usr/local/lib/python3.7/dist-packages/torch/distributed/launch.py\", line 174, in launch\n",
            "    run(args)\n",
            "  File \"/usr/local/lib/python3.7/dist-packages/torch/distributed/run.py\", line 718, in run\n",
            "    )(*cmd_args)\n",
            "  File \"/usr/local/lib/python3.7/dist-packages/torch/distributed/launcher/api.py\", line 131, in __call__\n",
            "    return launch_agent(self._config, self._entrypoint, list(args))\n",
            "  File \"/usr/local/lib/python3.7/dist-packages/torch/distributed/launcher/api.py\", line 247, in launch_agent\n",
            "    failures=result.failures,\n",
            "torch.distributed.elastic.multiprocessing.errors.ChildFailedError: \n",
            "============================================================\n",
            "main_train_psnr.py FAILED\n",
            "------------------------------------------------------------\n",
            "Failures:\n",
            "[1]:\n",
            "  time      : 2022-06-21_13:23:19\n",
            "  host      : ecb210813e86\n",
            "  rank      : 1 (local_rank: 1)\n",
            "  exitcode  : 1 (pid: 553)\n",
            "  error_file: <N/A>\n",
            "  traceback : To enable traceback see: https://pytorch.org/docs/stable/elastic/errors.html\n",
            "[2]:\n",
            "  time      : 2022-06-21_13:23:19\n",
            "  host      : ecb210813e86\n",
            "  rank      : 2 (local_rank: 2)\n",
            "  exitcode  : 1 (pid: 554)\n",
            "  error_file: <N/A>\n",
            "  traceback : To enable traceback see: https://pytorch.org/docs/stable/elastic/errors.html\n",
            "[3]:\n",
            "  time      : 2022-06-21_13:23:19\n",
            "  host      : ecb210813e86\n",
            "  rank      : 3 (local_rank: 3)\n",
            "  exitcode  : 1 (pid: 555)\n",
            "  error_file: <N/A>\n",
            "  traceback : To enable traceback see: https://pytorch.org/docs/stable/elastic/errors.html\n",
            "[4]:\n",
            "  time      : 2022-06-21_13:23:19\n",
            "  host      : ecb210813e86\n",
            "  rank      : 4 (local_rank: 4)\n",
            "  exitcode  : 1 (pid: 556)\n",
            "  error_file: <N/A>\n",
            "  traceback : To enable traceback see: https://pytorch.org/docs/stable/elastic/errors.html\n",
            "[5]:\n",
            "  time      : 2022-06-21_13:23:19\n",
            "  host      : ecb210813e86\n",
            "  rank      : 5 (local_rank: 5)\n",
            "  exitcode  : 1 (pid: 557)\n",
            "  error_file: <N/A>\n",
            "  traceback : To enable traceback see: https://pytorch.org/docs/stable/elastic/errors.html\n",
            "[6]:\n",
            "  time      : 2022-06-21_13:23:19\n",
            "  host      : ecb210813e86\n",
            "  rank      : 6 (local_rank: 6)\n",
            "  exitcode  : 1 (pid: 558)\n",
            "  error_file: <N/A>\n",
            "  traceback : To enable traceback see: https://pytorch.org/docs/stable/elastic/errors.html\n",
            "[7]:\n",
            "  time      : 2022-06-21_13:23:19\n",
            "  host      : ecb210813e86\n",
            "  rank      : 7 (local_rank: 7)\n",
            "  exitcode  : 1 (pid: 559)\n",
            "  error_file: <N/A>\n",
            "  traceback : To enable traceback see: https://pytorch.org/docs/stable/elastic/errors.html\n",
            "------------------------------------------------------------\n",
            "Root Cause (first observed failure):\n",
            "[0]:\n",
            "  time      : 2022-06-21_13:23:19\n",
            "  host      : ecb210813e86\n",
            "  rank      : 0 (local_rank: 0)\n",
            "  exitcode  : 1 (pid: 552)\n",
            "  error_file: <N/A>\n",
            "  traceback : To enable traceback see: https://pytorch.org/docs/stable/elastic/errors.html\n",
            "============================================================\n"
          ]
        }
      ]
    },
    {
      "cell_type": "markdown",
      "source": [
        "# Playing around"
      ],
      "metadata": {
        "id": "G9uLFX_Ev-zp"
      }
    },
    {
      "cell_type": "code",
      "source": [
        "import csv\n",
        "file = open('DL_info.csv')\n",
        "csv_reader = csv.reader(file)\n",
        "header = []\n",
        "header = next(csv_reader)\n",
        "header"
      ],
      "metadata": {
        "colab": {
          "base_uri": "https://localhost:8080/"
        },
        "id": "CYbBmLRGwDLn",
        "outputId": "811a980e-4700-40b4-fa87-02a4a94b1f99"
      },
      "execution_count": null,
      "outputs": [
        {
          "output_type": "execute_result",
          "data": {
            "text/plain": [
              "['File_name',\n",
              " 'Patient_index',\n",
              " 'Study_index',\n",
              " 'Series_ID',\n",
              " 'Key_slice_index',\n",
              " 'Measurement_coordinates',\n",
              " 'Bounding_boxes',\n",
              " 'Lesion_diameters_Pixel_',\n",
              " 'Normalized_lesion_location',\n",
              " 'Coarse_lesion_type',\n",
              " 'Possibly_noisy',\n",
              " 'Slice_range',\n",
              " 'Spacing_mm_px_',\n",
              " 'Image_size',\n",
              " 'DICOM_windows',\n",
              " 'Patient_gender',\n",
              " 'Patient_age',\n",
              " 'Train_Val_Test']"
            ]
          },
          "metadata": {},
          "execution_count": 6
        }
      ]
    },
    {
      "cell_type": "code",
      "source": [
        "## name of files with images is in the form --> 'zip_file/Images_png/File_name.split('_')[0:3]/File_name.split('_')[-1]'"
      ],
      "metadata": {
        "id": "VrP9YBrlxHe1"
      },
      "execution_count": null,
      "outputs": []
    },
    {
      "cell_type": "code",
      "source": [
        "for row in csv_reader:\n",
        "  print(row)\n",
        "  print(row[0])\n",
        "  print('_'.join(row[0].split('_')[0:3]))\n",
        "  break"
      ],
      "metadata": {
        "colab": {
          "base_uri": "https://localhost:8080/"
        },
        "id": "TIHN7CAFxR-e",
        "outputId": "3fabba7b-3a0c-4802-8c71-951491e45e1e"
      },
      "execution_count": null,
      "outputs": [
        {
          "output_type": "stream",
          "name": "stdout",
          "text": [
            "['000002_01_01_162.png', '2', '1', '1', '162', '238.314, 261.228, 235.858, 268.594, 240.36, 265.729, 234.222, 262.865', '229.222, 256.228, 245.36, 273.594', '7.76388, 6.77335', '0.437715, 0.573812, 0.609054', '2', '0', '156, 168', '0.859375, 0.859375, 5', '512, 512', '-175, 275', 'F', '51', '2']\n",
            "000002_01_01_162.png\n",
            "000002_01_01\n"
          ]
        }
      ]
    },
    {
      "cell_type": "code",
      "source": [
        "for row in csv_reader:\n",
        "  img = 'zip_file/Images_png' + '_'.join(row[0].split('_')[0:3]) + row[0].split('_')[-1]\n"
      ],
      "metadata": {
        "id": "6q5nZMlxyxC5"
      },
      "execution_count": null,
      "outputs": []
    },
    {
      "cell_type": "markdown",
      "source": [
        "Reading CSV with pandas"
      ],
      "metadata": {
        "id": "Z8Ji9jgc0C51"
      }
    },
    {
      "cell_type": "code",
      "source": [
        "import pandas as pd\n",
        "\n",
        "reader = pd.read_csv('DL_info.csv')\n",
        "reader"
      ],
      "metadata": {
        "id": "IIi4vHa00Fq6"
      },
      "execution_count": null,
      "outputs": []
    },
    {
      "cell_type": "code",
      "source": [
        "for i in reader:\n",
        "  print(i)"
      ],
      "metadata": {
        "id": "ua6X8qws0R_8"
      },
      "execution_count": null,
      "outputs": []
    },
    {
      "cell_type": "code",
      "source": [
        "print(reader.head())  "
      ],
      "metadata": {
        "id": "TTjU_JTY0wxX"
      },
      "execution_count": null,
      "outputs": []
    },
    {
      "cell_type": "code",
      "source": [
        "print(len(reader))\n",
        "print(reader.shape) ## 32735 rows and 18 cols"
      ],
      "metadata": {
        "colab": {
          "base_uri": "https://localhost:8080/"
        },
        "id": "A1EzY2UR0xff",
        "outputId": "a7044303-f89b-42e6-d25f-66e87c483fe8"
      },
      "execution_count": null,
      "outputs": [
        {
          "output_type": "stream",
          "name": "stdout",
          "text": [
            "32735\n",
            "(32735, 18)\n"
          ]
        }
      ]
    },
    {
      "cell_type": "code",
      "source": [
        "reader.iloc[1, 0]  ### Pretty important!!!"
      ],
      "metadata": {
        "colab": {
          "base_uri": "https://localhost:8080/",
          "height": 35
        },
        "id": "-MevJ1Bt1acn",
        "outputId": "ac1bf7bf-1e14-494b-9ebf-d4aec1a3f5c9"
      },
      "execution_count": null,
      "outputs": [
        {
          "output_type": "execute_result",
          "data": {
            "text/plain": [
              "'000001_02_01_014.png'"
            ],
            "application/vnd.google.colaboratory.intrinsic+json": {
              "type": "string"
            }
          },
          "metadata": {},
          "execution_count": 34
        }
      ]
    }
  ]
}